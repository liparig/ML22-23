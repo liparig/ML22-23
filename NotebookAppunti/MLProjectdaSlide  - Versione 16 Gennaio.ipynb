{
 "cells": [
  {
   "cell_type": "markdown",
   "id": "e60d0971",
   "metadata": {},
   "source": [
    "## TODO: Commentare CODICE!, BackPropagation, Funzioni per la validazione, creata la rete neurale da utilizzare prima i datasets MONK e sul dataset per la CUP ."
   ]
  },
  {
   "cell_type": "markdown",
   "id": "3dae8622",
   "metadata": {},
   "source": [
    "Import delle librerie (\"as\" serve a specificare come nel codice le librerie vengono richiamate.):\n",
    "- **matplotlib** per creare in output grafici\n",
    "- **pandas** per gestire i csv o gli excel\n",
    "- **numpy** per operazioni su matrici e vettori\n",
    "- **time** per valutazione sui tempi di esecuzione"
   ]
  },
  {
   "cell_type": "code",
   "execution_count": 2,
   "id": "06202c02",
   "metadata": {},
   "outputs": [],
   "source": [
    "import matplotlib.pyplot as plt\n",
    "import pandas as pd\n",
    "import numpy as np\n",
    "import time"
   ]
  },
  {
   "cell_type": "markdown",
   "id": "362b2a98",
   "metadata": {},
   "source": [
    "Import libreria **sklearn** per il machine learning utilizzata per i primi Test, forse non serviranno in futuro\n",
    "- load_breast_cancer: datasets per primi test\n",
    "- traint_test_split: divide il dataset in maniera randomica creando il training set e il test set in base a i parametri dati\n",
    "- mean_squared_error per verificare se la nostra versione funziona "
   ]
  },
  {
   "cell_type": "code",
   "execution_count": 3,
   "id": "f4a5057e",
   "metadata": {},
   "outputs": [],
   "source": [
    "import sklearn\n",
    "from sklearn.datasets import load_breast_cancer\n",
    "from sklearn.model_selection import train_test_split\n",
    "from sklearn.metrics import mean_squared_error\n",
    "from sklearn import preprocessing\n"
   ]
  },
  {
   "cell_type": "markdown",
   "id": "bd372ba5",
   "metadata": {},
   "source": [
    "Funzione **init_wb** che inizializza i pesi W e i Bias a zero.\n",
    "- l_dim array che continene la dimensione della rete (include anche l'input layer e l'output layer). *Esempio rete con 6 input due hidden layer da 3 e 5 unità e un singolo output prende in input l'array [6,3,5,1]*\n",
    "- parametro seed per la funzione random così da avere numeri casuali uguali per test sugli stessi dati.\n",
    "- eps un valore tra 0 e 1 per regolarizzazione ulteriore dei pesi W facendogli assumere valori bassi di default è 1"
   ]
  },
  {
   "cell_type": "code",
   "execution_count": 4,
   "id": "5c4f536b",
   "metadata": {},
   "outputs": [],
   "source": [
    "R_SEEDS=30\n",
    "EPS=0.1\n",
    "B=0\n",
    "def init_wb(l_dim, seed=R_SEEDS,eps=EPS,b=B,uniform=False,**kwargs):\n",
    "    np.random.seed(seed)\n",
    "    wb = {}\n",
    "    \n",
    "    #L dimensione della rete\n",
    "    L = len(l_dim)\n",
    "    \n",
    "    for l in range(1, L):\n",
    "        #Inizializzo i pesi maniera randomica e in un range regolato da eps\n",
    "        if not uniform:\n",
    "            wb['W'+str(l)] = np.random.randn(l_dim[l],l_dim[l-1]) * eps\n",
    "        else:\n",
    "            wb['W'+str(l)]=np.random.uniform(-0.1, 0.1,(l_dim[l],l_dim[l-1]))*eps\n",
    "        #Inizializzo i bias a zero  \n",
    "        wb['b'+str(l)] = np.full((l_dim[l], 1),b)\n",
    "        \n",
    "    return wb"
   ]
  },
  {
   "cell_type": "markdown",
   "id": "be74e040",
   "metadata": {},
   "source": [
    "Test di **init_wb** che stampa la dimensione e l'array dei pesi dei layer.\n",
    "La Matrice W risultante sarà  quindi per n numero unità layer e m numero input<br>\n",
    "[w1,1 w1,2 ... w1,m]<br>\n",
    "[w2,1 w2,2 ... w2,m]<br>\n",
    "[          ...     ]<br>\n",
    "[wn,1 wi,2 ... wi,m]<br>\n",
    "\n",
    "**w**ij il peso relativo all'unità *i* e l'input *j*. I bias sono di default zero per ogni layer"
   ]
  },
  {
   "cell_type": "code",
   "execution_count": 5,
   "id": "62397b84",
   "metadata": {},
   "outputs": [
    {
     "name": "stdout",
     "output_type": "stream",
     "text": [
      "Shape W1 (3, 6) Shape b1 (3, 1) [[-0.12640527  0.15279054 -0.09707109  0.04705596 -0.01006967  0.03037932]\n",
      " [-0.17259624  0.15850954  0.01342966 -0.11068555  0.15782255  0.01074979]\n",
      " [-0.07640478 -0.07751885  0.13838472  0.07603851 -0.02856455  0.05383675]]\n",
      "[[0]\n",
      " [0]\n",
      " [0]]\n",
      "Shape W2 (2, 3) Shape b2 (2, 1) [[-0.20838966  0.09377817 -0.0005778 ]\n",
      " [-0.0467479  -0.04230153  0.10644821]]\n",
      "[[0]\n",
      " [0]]\n",
      "Shape W3 (1, 2) Shape b3 (1, 1) [[-0.29033676  0.16168904]]\n",
      "[[0]]\n"
     ]
    }
   ],
   "source": [
    "l_dim=[6,3,2,1]\n",
    "L=len(l_dim)\n",
    "def pippo(**kwargs):\n",
    "    wb=init_wb(l_dim,**kwargs)\n",
    "    for l in range(1,L):\n",
    "        print(\"Shape W\"+str(l),wb[\"W\"+str(l)].shape, \"Shape b\"+str(l),wb[\"b\"+str(l)].shape,wb[\"W\"+str(l)] )\n",
    "        print(wb[\"b\"+str(l)] )\n",
    "pippo(seed=30,eps=0.1,pippo=123)"
   ]
  },
  {
   "cell_type": "markdown",
   "id": "cdb1ada6",
   "metadata": {},
   "source": [
    "###### !Ditemi se vi torna come l'ho spiegata, non sono convinto! \n",
    "La funzione **linear_af** applica  funzione lineare utilizzando la matrice **W** dei pesi e il dataset degli input **X**.<br>\n",
    "*p* numero dei pattern di X, *n* dimensione degli input, *i* numero unità.<br>\n",
    "- x*pj* = input j del pattern p\n",
    "- w*ij* = peso j unita i\n",
    "- h(xip) = output dell'unità i del pattern p\n",
    "$$ h(x_{ip}) = \\sum_{1}^n w_{ij} * x^T_{jp} $$"
   ]
  },
  {
   "cell_type": "code",
   "execution_count": 6,
   "id": "2ded1f5f",
   "metadata": {},
   "outputs": [],
   "source": [
    "def linear_af(w,X,b):\n",
    "    h = np.dot(w,X.T)+b\n",
    "    \n",
    "    return h"
   ]
  },
  {
   "cell_type": "markdown",
   "id": "6e51b3e5",
   "metadata": {},
   "source": [
    "Test della funzione **linear_af** (linear activation function)\n",
    "Nella stampa  due unità quindi con riferimento all'esempio precedente **i** da 1 a 2, 6 input **j** da 1 a 6 e due pattern **p** da uno a 2. \n",
    "Risultato una matrice h con nelle righe l'output di ogni unità e sulle colonne l'output relativo al pattern\n"
   ]
  },
  {
   "cell_type": "code",
   "execution_count": 7,
   "id": "69997f72",
   "metadata": {},
   "outputs": [
    {
     "name": "stdout",
     "output_type": "stream",
     "text": [
      "W\n",
      "[[-1.26405266  1.52790535 -0.97071094  0.47055962 -0.10069672  0.30379318]\n",
      " [-1.72596243  1.58509537  0.13429659 -1.10685547  1.57822555  0.10749794]]\n",
      "X\n",
      "[[0 0 1 0 1 0]\n",
      " [0 1 1 1 0 1]]\n",
      "b\n",
      "[[1.]]\n",
      "H\n",
      "[[-0.07140765  2.33154721]\n",
      " [ 2.71252214  1.72003444]]\n"
     ]
    }
   ],
   "source": [
    "np.random.seed(30)\n",
    "#Pesi per due unità matrice 2x6 (riga pesi unità) (colonna pesi per input)\n",
    "w= np.random.randn(2,6)\n",
    "#Input random con valori zero e uno 2x6 (riga  pattern da sei input) quindi due pattern da sei input\n",
    "X = np.random.randint(2, size=(2,6))\n",
    "b = np.ones((1,1))\n",
    "\n",
    "print(\"W\",w,\"X\",X,\"b\",b,sep=\"\\n\")\n",
    "# L'output della funzione h sarà una 2x2 ogni unità  (riga) avrà un output per ogni pattern (colonna)\n",
    "h= linear_af(w,X,b)\n",
    "print(\"H\",h,sep=\"\\n\")\n"
   ]
  },
  {
   "cell_type": "markdown",
   "id": "2eca3d64",
   "metadata": {},
   "source": [
    "**perceptron_af** Perceptron activation function. Ritorna il segno della funzione lineare quindi -1 o +1, se parametro zero è True ritorna 0 al posto di -1.\n",
    "- net risultato della rete (funzione lineare)\n",
    "- zero booleano di default è falso"
   ]
  },
  {
   "cell_type": "code",
   "execution_count": 8,
   "id": "3afd8730",
   "metadata": {},
   "outputs": [],
   "source": [
    "def perceptron_af(net,zero=False):\n",
    "    x=np.array(np.sign(net))\n",
    "    if zero:\n",
    "        x=np.where(x<0,0,x)\n",
    "    return x"
   ]
  },
  {
   "cell_type": "markdown",
   "id": "724ef004",
   "metadata": {},
   "source": [
    "Test della funzione **perceptron_af** su l'h del precedente test e su un input continuo\n"
   ]
  },
  {
   "cell_type": "code",
   "execution_count": 9,
   "id": "637a4ad8",
   "metadata": {},
   "outputs": [
    {
     "name": "stdout",
     "output_type": "stream",
     "text": [
      "[[0. 1.]\n",
      " [1. 1.]]\n",
      "[[-1.  1.]\n",
      " [ 1.  1.]]\n"
     ]
    },
    {
     "data": {
      "text/plain": [
       "Text(0, 0.5, 'Sign(X)')"
      ]
     },
     "execution_count": 9,
     "metadata": {},
     "output_type": "execute_result"
    },
    {
     "data": {
      "image/png": "[encoded data removed]",
      "text/plain": [
       "<Figure size 432x288 with 1 Axes>"
      ]
     },
     "metadata": {
      "needs_background": "light"
     },
     "output_type": "display_data"
    }
   ],
   "source": [
    "print(perceptron_af(h,zero=True))\n",
    "print(perceptron_af(h))\n",
    "\n",
    "x = np.linspace(-10, 10, 100)\n",
    "z =np.sign(x)\n",
    "plt.plot(x, z)\n",
    "plt.xlabel(\"x\")\n",
    "plt.ylabel(\"Sign(X)\")"
   ]
  },
  {
   "cell_type": "markdown",
   "id": "b71d7bb1",
   "metadata": {},
   "source": [
    "**sigmoid_af** Sigmoid activation function. Ritorna il valore dalla sigmoide applicato alla funzione lineare.\n",
    "- net risultato della rete (funzione lineare)\n",
    "$$ \\sigma_{(net)} = \\frac{1}{e^{-net}} $$\n",
    "**sigmoid_derivative** derivata della sigmoide:\n",
    "    $$ \\sigma^{'}=\\sigma_{(net)} * (1 - \\sigma_{(net)}) $$\n",
    "\n",
    "- net risultato della rete (funzione lineare) \n",
    "\n"
   ]
  },
  {
   "cell_type": "code",
   "execution_count": 10,
   "id": "f1925b16",
   "metadata": {},
   "outputs": [],
   "source": [
    "def sigmoid_af(net):\n",
    "    #sf= 1/(1 + np.exp(-net))\n",
    "    #return sf\n",
    "    return np.divide(1, np.add(1, np.exp(-net)))\n",
    "    \n",
    "\n",
    "def sigmoid_derivative(net):\n",
    "    return np.multiply(sigmoid_af(net),np.subtract([1.] * len(net.T), sigmoid_af(net)))"
   ]
  },
  {
   "cell_type": "markdown",
   "id": "1b514e89",
   "metadata": {},
   "source": [
    "Test sigmoid activation function sul risultato del precedente h e stampa del grafico su valori continui\n"
   ]
  },
  {
   "cell_type": "code",
   "execution_count": 11,
   "id": "8a299c7b",
   "metadata": {},
   "outputs": [
    {
     "name": "stdout",
     "output_type": "stream",
     "text": [
      "[[0.48215567 0.91145628]\n",
      " [0.93776152 0.84813327]]\n"
     ]
    },
    {
     "data": {
      "image/png": "[encoded data removed]",
      "text/plain": [
       "<Figure size 432x288 with 1 Axes>"
      ]
     },
     "metadata": {
      "needs_background": "light"
     },
     "output_type": "display_data"
    },
    {
     "data": {
      "image/png": "[encoded data removed]",
      "text/plain": [
       "<Figure size 432x288 with 1 Axes>"
      ]
     },
     "metadata": {
      "needs_background": "light"
     },
     "output_type": "display_data"
    }
   ],
   "source": [
    "s=sigmoid_af(h)\n",
    "print(s)\n",
    "x = np.linspace(-10, 10, 100)\n",
    "z = sigmoid_af(x)\n",
    "plt.plot(x, z)\n",
    "plt.xlabel(\"x\")\n",
    "plt.ylabel(\"Sigmoid(X)\")\n",
    "  \n",
    "plt.show()\n",
    "z = sigmoid_derivative(x)\n",
    "plt.plot(x, z)\n",
    "plt.xlabel(\"x\")\n",
    "plt.ylabel(\"Sigmoid(X)\")\n",
    "  \n",
    "plt.show()"
   ]
  },
  {
   "cell_type": "markdown",
   "id": "c2aab00f",
   "metadata": {},
   "source": [
    "Funzione **mse** calcola il Mean squared error parametri:\n",
    "- matrice dei target **Y** \n",
    "- matrice **Y_hat** delle predizioni\n",
    "- reg valore regolarizzazione di default 0\n",
    "- a_loss array nel quale si vuole appendere la loss calcolata\n",
    " $$MSE  = \\frac{1}{2n} \\sum_{i=1}^n (Y_i - \\hat{Y}_i)^2 $$\n",
    "\n",
    "Nota: Nel codice è comentata una linea nel caso si voglia moltiplicare la media per 1/2l cosi da eliminare il due, perché nel calcolo della dericata della cost functionsi può togliere la moltiplicazione per meno due. L'ho trovato scritto in entrambi i modi non sono convinto quale sia il migliore."
   ]
  },
  {
   "cell_type": "code",
   "execution_count": 12,
   "id": "383b0c35",
   "metadata": {},
   "outputs": [],
   "source": [
    "def mse(Y,Y_hat,verbose=False):\n",
    "    l= Y.shape[0]\n",
    "    dp = np.squeeze(Y) - np.squeeze(Y_hat)\n",
    "    loss=np.sum(np.square(dp))\n",
    "    #loss=loss*(1/l)\n",
    "    #PRINT PER CONTROLLARE LE DIMENSIONI\n",
    "    if verbose:\n",
    "        print(\"Y:\",Y.shape, \"Y_hat\",Y_hat.shape,\"Y - Y_hat:\",np.subtract(Y,Y_hat).shape,sep=\"\\n\")\n",
    "        print(\"Y:\",Y,\"Y_hat:\",Y_hat)\n",
    "        print(\"Y-Y_hat\",np.subtract(Y,Y_hat))\n",
    "    \n",
    "    #cancellando il due\n",
    "    loss=  loss * (1/(2*l))\n",
    "    return loss\n",
    "\n",
    "\n",
    "def mse_derivative(Y,Y_hat):\n",
    "    dp = (np.squeeze(Y) - np.squeeze(Y_hat)) * -1\n",
    "    return dp\n",
    "\n"
   ]
  },
  {
   "cell_type": "markdown",
   "id": "1392d361",
   "metadata": {},
   "source": [
    "Funzione **gradient_mse** calcola il  gradiente del Mean squared error prametri:\n",
    "- matrice dei  target **Y** \n",
    "- matrice degli **Y_hat** delle predizioni\n",
    "- matrice degli input **X**\n",
    "    $$Gradient\\ MSE \\quad = \\frac{\\delta E_{(W)}}{\\delta w_j} = -  \\sum_{p=1}^n (y_p - \\hat{y}_p) * x_{p,j} $$ $$ \\delta_p = ( \\hat{y}_p - y_p ) $$\n",
    "  Utilizzando le operazioni con le matrici:\n",
    "  $$ \\Delta W \\quad = \\ - \\frac{\\delta E_{(W)}}{\\delta w_j} \\ =  (Y - \\hat{Y}) * X $$\n"
   ]
  },
  {
   "cell_type": "code",
   "execution_count": 13,
   "id": "33ad35c7",
   "metadata": {},
   "outputs": [],
   "source": [
    "def gradient_mse(Y,Y_hat,x,verbose=False):\n",
    "    dp = mse_derivative(Y,Y_hat)\n",
    "    #p = il numero dei pattern che corrisponde al numero di righe di Y.\n",
    "    p = Y.shape[0]\n",
    "    #cancellando il due nell'mse non devo molptiplicare per meno due\n",
    "    gradient = np.dot(dp,x)\n",
    "    #divido i gradienti trovati per p che è il numero dei pattern\n",
    "    gradient = gradient/p\n",
    "    #PRINT PER CONTROLLARE LE DIMENSIONI    \n",
    "    if verbose==True:\n",
    "        print(\"Y shape\", Y.shape,\"Y_hat shape\", Y_hat.shape,\"Subtract Shape\",np.subtract(Y,Y_hat).shape)\n",
    "        print(\"Y\",Y,\"Y_H\",Y_hat)\n",
    "        print(\"Y-Y_H\",np.subtract(Y,Y_hat))\n",
    "        print(\"GMSE Sub:\",dp.shape, x.shape)\n",
    "    return gradient"
   ]
  },
  {
   "cell_type": "markdown",
   "id": "26fc5be6",
   "metadata": {},
   "source": [
    "Funzione **mse** applicando la sigmoide alla rete passata come argomento. Parametri:\n",
    "- matrice dei target **Y** \n",
    "- matrice net della funzione lineare Wt*x + b\n",
    "- a_loss array nel quale si vuole appendere la loss calcolata"
   ]
  },
  {
   "cell_type": "code",
   "execution_count": 14,
   "id": "a068205a",
   "metadata": {},
   "outputs": [],
   "source": [
    "def mse_logistic(Y,net,reg=0,a_loss=None):\n",
    "    sig=sigmoid_af(net)\n",
    "    \n",
    "    return mse(Y,sig, 0, reg, a_loss)"
   ]
  },
  {
   "cell_type": "markdown",
   "id": "784c8605",
   "metadata": {},
   "source": [
    "Calcolo del gradiente applicato alla sigmoide\n",
    "$$ \\frac{\\delta E(w)}{\\delta w_j} \\ = \\ -\\sum_{p=1}^{l}(d_p - o(x_p))f_{\\sigma}^{'} x_{p,j} $$ $$ new \\ \\delta_{p} = (d_p - o(x_p))f_{\\sigma}^{'}$$ $$ \\Delta W  \\ = \\ - \\frac{\\delta E(w)}{\\delta w_j}= \\ new\\  \\delta_p \\  x_{p,j} $$"
   ]
  },
  {
   "cell_type": "code",
   "execution_count": 15,
   "id": "492a1550",
   "metadata": {},
   "outputs": [],
   "source": [
    "def gradient_mse_logistic(Y,net,out):\n",
    "    dp=delta_mse_logistic(Y,net)\n",
    "    p = Y.shape[0]\n",
    "    gradient = (np.dot(dp,out))\n",
    "    gradient = gradient/p\n",
    "    \n",
    "    return gradient\n",
    "\n",
    "def delta_mse_logistic(Y,net):\n",
    "    sig=sigmoid_af(net)\n",
    "    dsig=sigmoid_derivative(net)\n",
    "    print(sig.shape)\n",
    "    dmse=mse_derivative(Y,sig)\n",
    "    newdp=dmse*dsig\n",
    "    return newdp"
   ]
  },
  {
   "cell_type": "markdown",
   "id": "eeb60817",
   "metadata": {},
   "source": [
    "Questa funzione applica l'equazione normale per trovare la soluzione direttamente. Non so se serve nel progetto, l'ho implementata per prova.\n",
    "We can get the normal equation (point with gradient of E w.r.t w =0):\n",
    "$$ (X^T X)w = X^Ty $$\n",
    "- If X^TX is not singular the unique solution is given by: $$ w= (X^T X)^{-1}X^T y = X^{+} y $$\n",
    "    - \"+\" = Moore-Penrose pseudoinverse (also if X is not invertible)\n",
    "- Else the solution are infinite (satisfying the normal equation):\n",
    "we can choose the min norm (w) solution \n",
    "\n",
    "Normal Equation:\n",
    "- don't need to choose α \n",
    "- don't need to iterate - computed in one step \n",
    "- slow if n is large (n⩾10^4)\n",
    "- need to compute (X^T X)^−1 - very slow \n",
    "- if (X^T X) is not-invertible - we have problems\n",
    "\n",
    "Gradient Descent: \n",
    "- need to choose learning rate α \n",
    "- need to do many iterations \n",
    "- works well with large n\n"
   ]
  },
  {
   "cell_type": "code",
   "execution_count": 16,
   "id": "2f202220",
   "metadata": {},
   "outputs": [],
   "source": [
    "def normal_equation(X,Y,pseudo=False):\n",
    "    if pseudo:\n",
    "        pinv=np.linalg.pinv(X)\n",
    "        direct=pinv.dot(Y)\n",
    "    else:\n",
    "        direct=np.linalg.inv(X.T.dot(X)).dot(X.T).dot(Y)\n",
    "    \n",
    "    return direct\n",
    "    "
   ]
  },
  {
   "cell_type": "markdown",
   "id": "566176d9",
   "metadata": {},
   "source": [
    "Test del calcolo del gradiente e della funzione di costo con array del dataset Load Breast Cancer.\n",
    "- Calcolo l'mse con la nostra funzione e confronto con la libreria SKLEARN\n",
    "\n",
    "- Provo se riesce il calcolo del gradiente della funzione di costo applicato alla funzione lineare (DA VERIFICARE SE CORRETTO)\n",
    "- Provo se riesce il calcolo del gradiente della funzione di costo applicato alla funzione logistica (DA VERIFICARE SE CORRETTO)\n",
    "\n",
    "- Calcolo il costo utilizzando il metodo diretto dell'equazione normale. "
   ]
  },
  {
   "cell_type": "code",
   "execution_count": 17,
   "id": "8c2c1c33",
   "metadata": {},
   "outputs": [
    {
     "name": "stdout",
     "output_type": "stream",
     "text": [
      "Cost MSE=  0.6824960914095499\n",
      "Cost MSE SKLEARN= 0.6824960914095499\n",
      "Gradient [9.63646269e+00 1.02869604e+01 6.42121898e+01 6.26243240e+02\n",
      " 4.65854073e-02 7.99619145e-02 1.02389535e-01 5.68788318e-02\n",
      " 8.74654988e-02 2.64094358e-02 3.80734959e-01 4.85079037e-01\n",
      " 2.70110433e+00 5.14126646e+01 2.60631543e-03 1.62354866e-02\n",
      " 2.20637400e-02 7.81907697e-03 8.64701588e-03 1.69223078e-03\n",
      " 1.20403297e+01 1.39620806e+01 8.11006331e+01 9.48587203e+02\n",
      " 6.56778688e-02 2.05291490e-01 2.67762747e-01 1.08739310e-01\n",
      " 1.50399056e-01 4.06985541e-02]\n",
      "(1, 469)\n",
      "Gradient Sigmoid [[ 1.09230202e-01  2.03200518e-02  8.19213721e-01  1.44011836e+01\n",
      "  -2.26500097e-04  2.06632221e-03  3.98991194e-03  2.12169264e-03\n",
      "  -3.96110891e-04 -4.40198835e-04  8.28403453e-03 -1.13338983e-02\n",
      "   6.01110119e-02  1.40256231e+00 -8.43828900e-05  2.82619777e-04\n",
      "   4.39386461e-04  1.41125358e-04 -1.56257127e-04 -1.49717348e-05\n",
      "   1.83750297e-01  7.08205738e-02  1.34479512e+00  2.47363924e+01\n",
      "  -8.50132569e-05  6.96224211e-03  1.06758351e-02  3.78699522e-03\n",
      "   5.73475411e-04 -5.91893569e-06]]\n",
      "Direct [ 4.05448155e-01 -2.63367627e-03 -2.04684102e-02 -2.05245993e-03\n",
      " -7.38846916e-01 -1.93042266e-02 -8.18633507e-01 -2.60648945e+00\n",
      "  2.91070544e-01  2.65367808e+01 -6.16718033e-01  8.79181830e-04\n",
      "  3.52035354e-02  2.32353703e-03 -1.46360260e+01  2.29025726e+00\n",
      "  3.72309203e+00 -1.23649799e+01 -2.16060487e-01 -1.02766462e+01\n",
      " -2.35932280e-01 -7.12079350e-03  5.49091421e-03  1.17706006e-03\n",
      "  1.00422839e+00  1.00402865e-01 -5.16677647e-01 -7.24962934e-01\n",
      " -6.35033719e-01 -5.49311872e+00]\n",
      "Cost Normal Equation 0.028557486415171585\n"
     ]
    }
   ],
   "source": [
    "X, y = load_breast_cancer(return_X_y= True)\n",
    "X_dev, X_test, y_dev, y_test = train_test_split(X,y,test_size=100, stratify=y, shuffle=True, random_state=42)\n",
    "l_dim=[X_dev.shape[1],1,1]\n",
    "wb=init_wb(l_dim,eps=0.001)\n",
    "w=wb[\"W\"+str(1)]\n",
    "b=wb[\"b\"+str(1)]\n",
    "h = linear_af(w,X_dev,b)\n",
    "print(\"Cost MSE= \", mse(y_dev,h))\n",
    "print(\"Cost MSE SKLEARN=\" ,mean_squared_error(y_dev,h.T)/2)\n",
    "print(\"Gradient\", gradient_mse(y_dev,h,X_dev))\n",
    "print(\"Gradient Sigmoid\", gradient_mse_logistic(y_dev,h,X_dev))\n",
    "\n",
    "direct=normal_equation(X_dev,y_dev,True)\n",
    "print(\"Direct\",direct )\n",
    "dh=linear_af(direct,X_dev,b)\n",
    "cost=mse(y_dev,dh)\n",
    "print(\"Cost Normal Equation\", cost)"
   ]
  },
  {
   "cell_type": "markdown",
   "id": "3654fdc1",
   "metadata": {},
   "source": [
    "La funzione **classification_error** prende come parametri y il valori reali e y_hat la predizione di classificazione della rete. Ritorna il numero di predizioni errate"
   ]
  },
  {
   "cell_type": "code",
   "execution_count": 18,
   "id": "d688ed18",
   "metadata": {},
   "outputs": [],
   "source": [
    "def classification_error(y, y_hat,verbose=False):\n",
    "    num_err=0\n",
    "    index = 0\n",
    "    if verbose==True:\n",
    "        print(\"Y shape\",y.shape,\"Y_H shape\",y_hat.shape)\n",
    "    y_hat=np.squeeze(y_hat)\n",
    "    for o in  y_hat:\n",
    "        if o != y[index]:\n",
    "            num_err+=1\n",
    "        index+=1\n",
    "    return num_err"
   ]
  },
  {
   "cell_type": "markdown",
   "id": "b6033e03",
   "metadata": {},
   "source": [
    "Funzione **gradient_descent** calcola la nuova matrice W utilizzando la formula del gradient descent.\n",
    "Parametri:\n",
    "    - W matrice dei pesi\n",
    "    - eta learning rate\n",
    "    - gradiente dell'Errore rispeto alla matrice W\n",
    "Ritorna la nuova matrice W"
   ]
  },
  {
   "cell_type": "code",
   "execution_count": 19,
   "id": "60d3a342",
   "metadata": {},
   "outputs": [],
   "source": [
    "def gradient_descent(w,eta,gradient):\n",
    "    dw= - gradient\n",
    "    newW= w + (eta * dw)\n",
    "    \n",
    "    return newW"
   ]
  },
  {
   "cell_type": "markdown",
   "id": "27ed9aae",
   "metadata": {},
   "source": [
    "Test dell'algoritmo del gradient descent e confronto dei costi prima e dopo l'aggiornamento di W sia con gradiente che senza"
   ]
  },
  {
   "cell_type": "code",
   "execution_count": 20,
   "id": "df744483",
   "metadata": {
    "scrolled": false
   },
   "outputs": [
    {
     "name": "stdout",
     "output_type": "stream",
     "text": [
      "Error Gradient:  [9.63646269e+00 1.02869604e+01 6.42121898e+01 6.26243240e+02\n",
      " 4.65854073e-02 7.99619145e-02 1.02389535e-01 5.68788318e-02\n",
      " 8.74654988e-02 2.64094358e-02 3.80734959e-01 4.85079037e-01\n",
      " 2.70110433e+00 5.14126646e+01 2.60631543e-03 1.62354866e-02\n",
      " 2.20637400e-02 7.81907697e-03 8.64701588e-03 1.69223078e-03\n",
      " 1.20403297e+01 1.39620806e+01 8.11006331e+01 9.48587203e+02\n",
      " 6.56778688e-02 2.05291490e-01 2.67762747e-01 1.08739310e-01\n",
      " 1.50399056e-01 4.06985541e-02]\n",
      "Cost:  0.6824960914095499\n",
      "Cost with new W:  0.5624047067220123\n",
      "Penalty term:  4.261717943104881e-06\n",
      "Cost with penalty term:  0.6824960914095499\n",
      "Cost new W with penalty term:  0.5624047263496315\n"
     ]
    }
   ],
   "source": [
    "print(\"Error Gradient: \", gradient_mse(y_dev,h,X_dev))\n",
    "cost=mse(y_dev,h)\n",
    "print(\"Cost: \",cost)\n",
    "eta=0.0000001\n",
    "newW= gradient_descent(w,eta,gradient_mse(y_dev,h,X_dev))\n",
    "gh=linear_af(newW,X_dev,b)\n",
    "cost=mse(y_dev,gh)\n",
    "print(\"Cost with new W: \",cost)\n",
    "tihk=0.1\n",
    "reg= tihk * np.square(np.linalg.norm(w))\n",
    "print(\"Penalty term: \",reg)\n",
    "cost=mse(y_dev,h) \n",
    "print(\"Cost with penalty term: \",cost)\n",
    "gradreg = 2*tihk*w\n",
    "newW = gradient_descent(w,eta,gradient_mse(y_dev,h,X_dev) - gradreg)\n",
    "gh=linear_af(newW,X_dev,b)\n",
    "cost=mse(y_dev,gh)\n",
    "print(\"Cost new W with penalty term: \",cost)\n"
   ]
  },
  {
   "cell_type": "markdown",
   "id": "b61d946f",
   "metadata": {},
   "source": [
    "Importo Nuovamente i datasets di test e verifico le dimensioni"
   ]
  },
  {
   "cell_type": "code",
   "execution_count": 21,
   "id": "07ae71cb",
   "metadata": {},
   "outputs": [
    {
     "data": {
      "text/plain": [
       "((469, 30), (100, 30))"
      ]
     },
     "execution_count": 21,
     "metadata": {},
     "output_type": "execute_result"
    }
   ],
   "source": [
    "X, y = load_breast_cancer(return_X_y= True)\n",
    "#X_dev, X_test, y_dev, y_test = train_test_split(X,y,test_size=100, stratify=y, shuffle=True, random_state=42)\n",
    "X_dev, X_test, y_dev, y_test = train_test_split(X,y,test_size=100, stratify=y, shuffle=True, random_state=42)\n",
    "\n",
    "X_dev.shape, X_test.shape"
   ]
  },
  {
   "cell_type": "markdown",
   "id": "42b3007a",
   "metadata": {},
   "source": [
    "Test errore di classificazione sul dataset breast cancer. Per prima cosa creo una rete con un singola unità. Applico l'equazione normale per trovare i valori di W e applico la la funzione lineare. Utilizzo il perceptron come funzione di attivazione e verifico gli elementi classificati errati sia sul training test che sul test set."
   ]
  },
  {
   "cell_type": "code",
   "execution_count": 22,
   "id": "ee9ad94b",
   "metadata": {},
   "outputs": [
    {
     "name": "stdout",
     "output_type": "stream",
     "text": [
      "Train set # Errori  119 su: 469 elementi = 74.6268656716418 %\n",
      "Test set # Errori  28 su: 100 elementi = 72.0 %\n",
      "MSE Train set NormalEquation:  0.12686567164179105 MSE Test set NormalEquation:  0.14\n",
      "SKlearn MSE Train set NormalEquation:  0.12686567164179105 SKlearn MSE Test set NormalEquation:  0.14\n"
     ]
    }
   ],
   "source": [
    "l_dim=[X_dev.shape[1],1,1]\n",
    "wb=init_wb(l_dim,eps=0)\n",
    "w=wb[\"W\"+str(1)]\n",
    "b=wb[\"b\"+str(1)]\n",
    "l = y_dev.shape[0]\n",
    "#applico l'equazione normale per trovare la soluzione \n",
    "normalw = normal_equation(X_dev,y_dev)\n",
    "#applico la funzione lineare alla soluzione trovata\n",
    "h=linear_af(normalw,X_dev,b)\n",
    "#utilizzo la funzione di attivazione del perceptron per recuperare i segni della mia funzione lineare\n",
    "out=perceptron_af(h,zero=True)\n",
    "#verifico il numero di errori di classificazione\n",
    "err=classification_error(y_dev,out)\n",
    "print(\"Train set # Errori \",err, \"su:\",y_dev.shape[0],\"elementi =\",(l-err)/y_dev.shape[0]*100,\"%\")\n",
    "\n",
    "cost_history=[]\n",
    "cost = mse(y_dev,out)\n",
    "cost_history.append(cost)\n",
    "skcost=mean_squared_error([y_dev],out)/2\n",
    "\n",
    "#Applico al Test set\n",
    "h=linear_af(normalw,X_test,b)\n",
    "\n",
    "out=perceptron_af(h,zero=True)\n",
    "\n",
    "cost2= mse(y_test,out)\n",
    "cost_history.append(cost2)\n",
    "\n",
    "skcost2=mean_squared_error(y_test,out.T)/2\n",
    "#print(\"W\",normalw,\"Out\",h)\n",
    "tl = y_test.shape[0]\n",
    "\n",
    "terr=classification_error(y_test,out)\n",
    "print(\"Test set # Errori \",terr, \"su:\",y_test.shape[0],\"elementi =\",(tl-terr)/y_test.shape[0]*100,\"%\")\n",
    "print(\"MSE Train set NormalEquation: \",cost,\"MSE Test set NormalEquation: \",cost2 )\n",
    "print(\"SKlearn MSE Train set NormalEquation: \",skcost,\"SKlearn MSE Test set NormalEquation: \",skcost2, )\n"
   ]
  },
  {
   "cell_type": "markdown",
   "id": "c93853ca",
   "metadata": {},
   "source": [
    "Funzione che calcola la regolarizzazione di Tikhonov e il suo gradiente"
   ]
  },
  {
   "cell_type": "code",
   "execution_count": 27,
   "id": "a3b2c852",
   "metadata": {},
   "outputs": [],
   "source": [
    "def tikhonov(lambdat, w):\n",
    "    return lambdat * np.square(np.linalg.norm(w))\n",
    "\n",
    "def tikhonov2(tlambda,w):\n",
    "    return tlambda * np.sum(np.square(w))\n",
    "\n",
    "\n",
    "def gradient_Tikhonov(lambdat,w):\n",
    "    return 2*lambdat*w\n",
    "    "
   ]
  },
  {
   "cell_type": "markdown",
   "id": "cec13b0a",
   "metadata": {},
   "source": [
    "Test errore di classificazione sul dataset breast cancer. Per prima cosa creo una rete con un singola unità. Parametri:\n",
    "- eta learning rate\n",
    "- lambda (Tikhnov) valore di regolarizzazione\n",
    "    * Note that for the objective function we use here the name Loss (used for the model training cost function) to distinguish from the Error E (useful to evaluate the model error and used for the data term inside this Loss). \n",
    "$$ Loss(w) = \\sum_{p=1}^{l} (y_p - x_p^T)^2 + \\lambda \\lVert {w} \\rVert^2 $$\n",
    "     * **Nota**  The balancing (trade-off) between the two terms: \n",
    "     * Small lambda value: minimizing the loss the focus is on obtaining a small error data term (first term, minimize just the training error) with a too complex model (high norm of the weights), the risk is of overfitting,\n",
    "     * High lambda: minimizing the loss the focus is on the second term, hence the data error (first term) could grow too much i.e. moving to underfitting\n",
    "- epoch numero di epoche di addestramento\n",
    "Per ogni epoca calcolo il termine di penalità e il gradiente aggiugendo anche il gradiente del termine di penalità \n",
    "$$ w_{new}= w + \\eta * \\Delta w - 2 \\lambda w $$\n",
    "\n",
    "Dopo l'addestramento faccio il plot dei costi per ogni epoca e applico il modello addestrato al dataset di Test"
   ]
  },
  {
   "cell_type": "code",
   "execution_count": 31,
   "id": "5ee6cc19",
   "metadata": {},
   "outputs": [
    {
     "data": {
      "image/png": "[encoded data removed]",
      "text/plain": [
       "<Figure size 432x288 with 1 Axes>"
      ]
     },
     "metadata": {
      "needs_background": "light"
     },
     "output_type": "display_data"
    },
    {
     "name": "stdout",
     "output_type": "stream",
     "text": [
      "Loss Train:  0.060675287961051594\n",
      "Train set # Errori  159 su: 469 elementi = 66.09808102345416 %\n",
      "[[ 0.8008939   0.7393824   0.36802728  0.26729539  0.65819676  0.67565145\n",
      "   0.62112908 -0.12950728  0.66040338  0.79879444  0.65859865  0.70152454\n",
      "   0.53811021  0.09358192  0.66260947  0.55821615  0.68447583  0.80178338\n",
      "   0.69368528  0.17690719  0.6167862   0.77583803  0.85301439  0.7805907\n",
      "   0.69203329  0.68336148  0.70033249  0.66573819  0.21402324  0.50961555\n",
      "  -0.4830458   0.51717795  0.41647242  0.62120126  0.74138898  0.70585478\n",
      "   0.15679881  0.79358829  0.80293189  0.74972463  0.26405954  0.69202237\n",
      "   0.74340589  0.61437848  0.65017167  0.60121328  0.76982471  0.33958711\n",
      "  -0.88193562  0.76371128  0.73248818  0.85188946  0.62463472  0.35933793\n",
      "   0.16960744  0.47622808  0.05208142  0.65744895  0.5370785   0.83432713\n",
      "   0.22636246  0.69875676  0.73844836  0.85872942  0.72511875  0.78899391\n",
      "   0.26102208  0.27802887  0.50427358  0.15999377  0.74516859  0.70012095\n",
      "   0.85372503  0.59411745  0.70994797  0.61087498  0.74681014  0.26762921\n",
      "   0.6722221   0.67223585  0.69947043  0.8195501   0.77253328  0.6034032\n",
      "   0.60918053  0.30882768  0.49695567  0.75940413  0.83186093  0.53334611\n",
      "   0.79485029  0.56807442  0.28521121  0.13524833  0.66043311  0.67570936\n",
      "   0.732392    0.10495565  0.87597364  0.8053103 ]]\n",
      "Loss Test:  0.185\n",
      "TEST set # Errori  37 su: 100 elementi = 63.0 %\n"
     ]
    }
   ],
   "source": [
    "l_dim=[X_dev.shape[1],1,1]\n",
    "wb=init_wb(l_dim,eps=0,b=1)\n",
    "w=wb[\"W\"+str(1)]\n",
    "b=wb[\"b\"+str(1)]\n",
    "cost_history=[]\n",
    "eta=1/1000000\n",
    "lambdat=0.00001\n",
    "epoch=7\n",
    "\n",
    "for i in range (1,epoch):\n",
    "    #print(\"w\",i,\":\",w.shape)\n",
    "    #print(\"x\",i,\":\",X_dev.shape)\n",
    "    #Applico la funzione lineare\n",
    "    h=linear_af(w,X_dev,b)\n",
    "    #print(\"h\",i,\":\",h.shape)\n",
    "    cost= mse(y_dev, h)\n",
    "    cost_history.append(cost)\n",
    "    #Trovo il gradiente della funzione di Errore\n",
    "    gradient = gradient_mse(y_dev, h, X_dev)\n",
    "    #print(\"gradient\",i,\":\",gradient.shape)\n",
    "    #Applico il gradient descent per trovare i nuovi valori di w\n",
    "    w = gradient_descent(w,eta,gradient)\n",
    "\n",
    "plt.plot(range(1,epoch),cost_history)\n",
    "plt.xlabel(\"epoch\")\n",
    "plt.ylabel(\"Error\")\n",
    "plt.show()\n",
    "\n",
    "#Train SET eseguo il modello trovato sul train e test set\n",
    "l = y_dev.shape[0]\n",
    "h=linear_af(w,X_dev,b)\n",
    "out=perceptron_af(h,zero=True)\n",
    "err=classification_error(y_dev,out)\n",
    "print(\"Loss Train: \",cost)\n",
    "print(\"Train set # Errori \", err , \"su:\",y_dev.shape[0],\"elementi =\",(l-err)/y_dev.shape[0]*100,\"%\")\n",
    "\n",
    "#TEST SET\n",
    "tl = y_test.shape[0]\n",
    "h=linear_af(w,X_test,b)\n",
    "print(h)\n",
    "out=perceptron_af(h)\n",
    "\n",
    "cost2=mse(y_test,out)\n",
    "print(\"Loss Test: \",cost2)\n",
    "terr=classification_error(y_test,out)\n",
    "print(\"TEST set # Errori \", terr , \"su:\",y_test.shape[0],\"elementi =\",(tl-terr)/y_test.shape[0]*100,\"%\")"
   ]
  },
  {
   "cell_type": "code",
   "execution_count": 50,
   "id": "eaf487b9",
   "metadata": {},
   "outputs": [
    {
     "ename": "ValueError",
     "evalue": "all the input array dimensions for the concatenation axis must match exactly, but along dimension 1, the array at index 0 has size 1 and the array at index 1 has size 2",
     "output_type": "error",
     "traceback": [
      "\u001b[1;31m---------------------------------------------------------------------------\u001b[0m",
      "\u001b[1;31mValueError\u001b[0m                                Traceback (most recent call last)",
      "\u001b[1;32m~\\AppData\\Local\\Temp/ipykernel_1460/968752678.py\u001b[0m in \u001b[0;36m<module>\u001b[1;34m\u001b[0m\n\u001b[0;32m      2\u001b[0m \u001b[0mwb\u001b[0m\u001b[1;33m=\u001b[0m\u001b[0minit_wb\u001b[0m\u001b[1;33m(\u001b[0m\u001b[1;33m[\u001b[0m\u001b[1;36m1\u001b[0m\u001b[1;33m,\u001b[0m\u001b[1;36m2\u001b[0m\u001b[1;33m,\u001b[0m\u001b[1;36m3\u001b[0m\u001b[1;33m]\u001b[0m\u001b[1;33m,\u001b[0m\u001b[0mb\u001b[0m\u001b[1;33m=\u001b[0m\u001b[1;36m0.1\u001b[0m\u001b[1;33m)\u001b[0m\u001b[1;33m\u001b[0m\u001b[1;33m\u001b[0m\u001b[0m\n\u001b[0;32m      3\u001b[0m \u001b[0mtotalw\u001b[0m\u001b[1;33m=\u001b[0m\u001b[0mwb\u001b[0m\u001b[1;33m[\u001b[0m\u001b[1;34m'W'\u001b[0m\u001b[1;33m+\u001b[0m\u001b[0mstr\u001b[0m\u001b[1;33m(\u001b[0m\u001b[1;36m1\u001b[0m\u001b[1;33m)\u001b[0m\u001b[1;33m]\u001b[0m\u001b[1;33m\u001b[0m\u001b[1;33m\u001b[0m\u001b[0m\n\u001b[1;32m----> 4\u001b[1;33m \u001b[0mtotalw\u001b[0m\u001b[1;33m=\u001b[0m\u001b[0mnp\u001b[0m\u001b[1;33m.\u001b[0m\u001b[0mconcatenate\u001b[0m\u001b[1;33m(\u001b[0m\u001b[1;33m(\u001b[0m\u001b[0mtotalw\u001b[0m\u001b[1;33m,\u001b[0m\u001b[0mwb\u001b[0m\u001b[1;33m[\u001b[0m\u001b[1;34m'W'\u001b[0m\u001b[1;33m+\u001b[0m\u001b[0mstr\u001b[0m\u001b[1;33m(\u001b[0m\u001b[1;36m2\u001b[0m\u001b[1;33m)\u001b[0m\u001b[1;33m]\u001b[0m\u001b[1;33m)\u001b[0m\u001b[1;33m)\u001b[0m\u001b[1;33m\u001b[0m\u001b[1;33m\u001b[0m\u001b[0m\n\u001b[0m\u001b[0;32m      5\u001b[0m \u001b[1;32mfor\u001b[0m \u001b[0ml\u001b[0m \u001b[1;32min\u001b[0m \u001b[0mrange\u001b[0m\u001b[1;33m(\u001b[0m\u001b[1;36m1\u001b[0m\u001b[1;33m,\u001b[0m\u001b[0mlen\u001b[0m\u001b[1;33m(\u001b[0m\u001b[0ml_dim\u001b[0m\u001b[1;33m)\u001b[0m\u001b[1;33m)\u001b[0m\u001b[1;33m:\u001b[0m\u001b[1;33m\u001b[0m\u001b[1;33m\u001b[0m\u001b[0m\n\u001b[0;32m      6\u001b[0m     \u001b[0mprint\u001b[0m\u001b[1;33m(\u001b[0m\u001b[1;34m\"Tw\"\u001b[0m\u001b[1;33m,\u001b[0m\u001b[0ml\u001b[0m\u001b[1;33m,\u001b[0m\u001b[1;34m\":\"\u001b[0m\u001b[1;33m,\u001b[0m\u001b[0mtikhonov\u001b[0m\u001b[1;33m(\u001b[0m\u001b[0mlambdat\u001b[0m\u001b[1;33m,\u001b[0m\u001b[0mwb\u001b[0m\u001b[1;33m[\u001b[0m\u001b[1;34m'W'\u001b[0m\u001b[1;33m+\u001b[0m\u001b[0mstr\u001b[0m\u001b[1;33m(\u001b[0m\u001b[0ml\u001b[0m\u001b[1;33m)\u001b[0m\u001b[1;33m]\u001b[0m\u001b[1;33m)\u001b[0m\u001b[1;33m)\u001b[0m\u001b[1;33m\u001b[0m\u001b[1;33m\u001b[0m\u001b[0m\n",
      "\u001b[1;32m<__array_function__ internals>\u001b[0m in \u001b[0;36mconcatenate\u001b[1;34m(*args, **kwargs)\u001b[0m\n",
      "\u001b[1;31mValueError\u001b[0m: all the input array dimensions for the concatenation axis must match exactly, but along dimension 1, the array at index 0 has size 1 and the array at index 1 has size 2"
     ]
    }
   ],
   "source": [
    "tik=0\n",
    "wb=init_wb([1,2,3],b=0.1)\n",
    "\n",
    "for l in range(1,len(l_dim)):\n",
    "    print(\"Tw\",l,\":\",tikhonov(lambdat,wb['W'+str(l)]))\n",
    "   \n",
    "    print(\"Tb\",l,\":\",tikhonov(lambdat,wb['b'+str(l)]))\n",
    "    tik+=tikhonov(lambdat,wb['W'+str(l)])+tikhonov(lambdat,wb['b'+str(l)])\n",
    "print(totalw)\n",
    "\n",
    "print(\"tik:\",tik)"
   ]
  },
  {
   "cell_type": "markdown",
   "id": "d4248557",
   "metadata": {},
   "source": [
    "Funzione che applica l'algoritmo del perceptron_learning:\n",
    "1. Initialize the weights (either to zero or to a small random value)\n",
    "2. pick a learning rate eta ( this is a number between 0 and 1) \n",
    "3. until stopping condition is satisfied (e.g. weights don't change): <br> For each training pattern (x, y) (y = +1 or –1): \n",
    " - Compute output activation out = sign(wT x) [+1,-1]\n",
    " - If out = y, don't change weights I.e. “minimize (only) misclassifications”\n",
    " - If out <> y, update the weights:\n",
    " $$ w_{new} = w + \\eta  * y * x $$\n",
    "    * add   + eta x if wx ≤ 0 and y=+1 or  - eta x if wx > 0 and y=-1 <br>\n",
    "    Or $$ w_{new}= w + \\eta (y-out) x$$\n",
    "    $$ y-out = \\delta \\\\ w_{new}= w + \\ \\eta \\ \\delta \\ x$$\n",
    " \n",
    " Parametri pesi W e bias B, learning rate eta, valori target y, input x, epoche di addestramento, verbose per la stampa di informazioni. Ritorna una tupla con i pesi aggiornati newW, il numero di valori errati, il numero i iterazioni effettuate"
   ]
  },
  {
   "cell_type": "code",
   "execution_count": 24,
   "id": "a50fe65c",
   "metadata": {},
   "outputs": [],
   "source": [
    "def perceptron_learning(w,b,eta,y,x,epochs,verbose=False):\n",
    "    #print(\"Shape d: \",d.shape,\" out: \",out.shape,\"X: \",x.shape,\"d-out: \",(np.subtract(d,out)))\n",
    "    newW=w\n",
    "    iter_miss=[]\n",
    "    i=0\n",
    "    miss=-1\n",
    "    ok=0\n",
    "    # Inizio l'addestramento termino se non ho nessuna misclassificazione o se raggiungo il numero limite di epoche\n",
    "    while miss!=0 and i!=epochs:\n",
    "        miss=0\n",
    "        ok=0\n",
    "        for p, xp in enumerate(x):\n",
    "            #ciclo i singoli pattern p\n",
    "            xp=np.reshape(xp,(1,xp.shape[0]))\n",
    "            #applico il perceptron al pattern \n",
    "            out = perceptron_step(newW,xp,b)\n",
    "            #calcolo y - out\n",
    "            yout=np.squeeze(y[p]) - np.squeeze(out)\n",
    "            # Se è diverso da zero aggiorno i pesi\n",
    "            if yout!=0:\n",
    "                #delta rule\n",
    "                newW +=  1/2* eta * (yout * xp)\n",
    "                miss+=1\n",
    "                if verbose:\n",
    "                    print(\"Errore numero\",miss,\"out:\",out,\"y:\",y[p],\"y-out\",yout)\n",
    "        i+=1;\n",
    "        iter_miss.append(miss)\n",
    "        if verbose and i % 500 == 0:\n",
    "            print(i)\n",
    "    return newW,iter_miss,i\n",
    "\n",
    "def perceptron_step(w,x,b):\n",
    "    h=linear_af(w,x,b)\n",
    "    return perceptron_af(h,zero=True)\n",
    "    "
   ]
  },
  {
   "cell_type": "markdown",
   "id": "be4a3fc2",
   "metadata": {},
   "source": [
    "Test del Perceptron Algorithm: Inizializzo i pesi per una unità setto un valore di eta e un numero di epoche e avvio l'algoritmo sul dataset di train. Alla fine dell'esecuzione controllo il numero di errori nella classificazione sia nel dataset di train che di test. TO DO: Da testare con il monk?"
   ]
  },
  {
   "cell_type": "code",
   "execution_count": 25,
   "id": "c42e1eb6",
   "metadata": {
    "scrolled": false
   },
   "outputs": [
    {
     "name": "stdout",
     "output_type": "stream",
     "text": [
      "Train set # Errori  48 su: 469 elementi = 89.76545842217483 %\n"
     ]
    },
    {
     "data": {
      "image/png": "[encoded data removed]",
      "text/plain": [
       "<Figure size 432x288 with 1 Axes>"
      ]
     },
     "metadata": {
      "needs_background": "light"
     },
     "output_type": "display_data"
    },
    {
     "name": "stdout",
     "output_type": "stream",
     "text": [
      "TEST set # Errori  12 su: 100 elementi = 88.0 %\n"
     ]
    }
   ],
   "source": [
    "l_dim=[X_dev.shape[1],1,1]\n",
    "wb=init_wb(l_dim,eps=0.00001)\n",
    "w=wb[\"W\"+str(1)]\n",
    "b=wb[\"b\"+str(1)]\n",
    "\n",
    "eta=0.000000001\n",
    "epochs=100\n",
    "\n",
    "\n",
    "newW,miss,i= perceptron_learning(w,b,eta,y_dev,X_dev,epochs)\n",
    "\n",
    "#Train set\n",
    "out=perceptron_step(newW,X_dev,b)\n",
    "nerr=classification_error(y_dev,out)\n",
    "\n",
    "l = y_dev.shape[0]\n",
    "print(\"Train set # Errori \", nerr , \"su:\",y_dev.shape[0],\"elementi =\",(l-nerr)/y_dev.shape[0]*100,\"%\")\n",
    "plt.plot(range(1,epochs+1),miss)\n",
    "plt.xlabel(\"epoch\")\n",
    "plt.ylabel(\"missclassified\")\n",
    "plt.show()\n",
    "\n",
    "#Test set\n",
    "out=perceptron_step(newW,X_test,b)\n",
    "tl = y_test.shape[0]\n",
    "terr=classification_error(y_test,out)\n",
    "print(\"TEST set # Errori \", terr , \"su:\",y_test.shape[0],\"elementi =\",(tl-terr)/y_test.shape[0]*100,\"%\")\n"
   ]
  },
  {
   "cell_type": "markdown",
   "id": "397c65b3",
   "metadata": {},
   "source": [
    "La funzione **forward_propagation** che effettua la propagazione in una rete neurale. I parametri:\n",
    "- X matrice degli input\n",
    "- w matrice dei pesi\n",
    "- b matrice dei bias\n",
    "- f la funzione di attivazione da applicare"
   ]
  },
  {
   "cell_type": "code",
   "execution_count": 26,
   "id": "848b5cad",
   "metadata": {},
   "outputs": [],
   "source": [
    "def forward_propagation(X,w,b,f_activation):\n",
    "    h = linear_af(w,X,b)\n",
    "    out = f_activation(h).T\n",
    "    return h,out\n"
   ]
  },
  {
   "cell_type": "markdown",
   "id": "18949017",
   "metadata": {},
   "source": [
    "Test della Forward propagation, inizializzo la rete con 2 hidden layer uno da 15 e 7 unità"
   ]
  },
  {
   "cell_type": "code",
   "execution_count": 27,
   "id": "fceb41b2",
   "metadata": {},
   "outputs": [
    {
     "name": "stdout",
     "output_type": "stream",
     "text": [
      "MSE 0.12492233267981837\n",
      "SKLearn 0.12492233267981837\n"
     ]
    }
   ],
   "source": [
    "l_dim=[30,15,7,1]\n",
    "L=len(l_dim)\n",
    "wb=init_wb(l_dim,30,0.01)\n",
    "out=X_dev\n",
    "hout = {}\n",
    "hout[\"o0\"]=X_dev\n",
    "for l in range(1,L):\n",
    "    net,out= forward_propagation(out,wb[\"W\"+str(l)],wb[\"b\"+str(l)],sigmoid_af)\n",
    "    \n",
    "    hout[\"o\"+str(l)]=out\n",
    "    hout[\"h\"+str(l)]=net\n",
    "#gradient=back_propagation(y_dev,caches,wb,sigmoid_derivative)\n",
    "    \n",
    "cost = mse(y_dev, out)\n",
    "print(\"MSE\",cost)\n",
    "print(\"SKLearn\", mean_squared_error(y_dev,out)/2)"
   ]
  },
  {
   "cell_type": "code",
   "execution_count": 28,
   "id": "f8dc827e",
   "metadata": {},
   "outputs": [],
   "source": [
    "#y vettore dei target\n",
    "#out matrice degli output dell'ultimo layer rete\n",
    "#d_activation con le derivate della funzione di attivazione\n",
    "#Ritorna delta_k matrice con i delta dell layer di output con riga corrispondente pattern e colonna Kesima unita output\n",
    "def compute_delta_k(y,out,net,d_loss,d_activation):\n",
    "    dp=d_loss(y,out)\n",
    "    f_prime=d_activation(net)\n",
    "    delta_k=dp*f_prime\n",
    "    return delta_k.T\n",
    "#delta_in matrice delta del layer successivo righe unità colonne pattern\n",
    "#w_layer matrice dei pesi del layer Win_j righe unità colonne input\n",
    "#d_activation matrice contenente i valori della derivata della funzione di attivazione righe unità colonne pattern\n",
    "#return delta_J righe patter colonne jiesimo delta\n",
    "def compute_delta_j(delta_in,w_layer,net,d_activation):\n",
    "    dt=delta_in@w_layer\n",
    "    dj=dt * d_activation(net).T\n",
    "    return dj\n",
    "\n",
    "def update_wb(wb,eta,delta,hout):\n",
    "    newwb={}\n",
    "    for l in range(len(l_dim)-1,0,-1):\n",
    "        newwb['W'+str(l)]= wb['W'+str(l)] + (eta * -(delta[l-1].T@hout['o'+str(l-1)]))\n",
    "        newwb['b'+str(l)]= wb['b'+str(l)] + eta * np.sum(delta[l-1])\n",
    "    return newwb\n",
    "        \n",
    "def back_propagation(y,out,d_loss,d_activation,wb,L,eta):\n",
    "    delta_t=[]\n",
    "    for l in range(L-1,0,-1):\n",
    "        dt=0\n",
    "        if l==L-1:\n",
    "            dt = compute_delta_k(y,out,hout[\"h\"+str(l)],d_loss,d_activation)\n",
    "        else:\n",
    "            dt = compute_delta_j(delta_t[-1],wb['W'+str(l+1)],hout[\"h\"+str(l)],d_activation)\n",
    "        delta_t.append(dt)\n",
    "    return delta_t[::-1]"
   ]
  },
  {
   "cell_type": "markdown",
   "id": "74bd04c5",
   "metadata": {},
   "source": [
    "Backpropagation Algoritmo:\n",
    "        $$Inizializzazione \\ dei \\ pesi\\ \\pmb{w} \\ nella \\ rete \\ e \\ di \\ \\pmb{\\eta}; \\\\\n",
    "    Calcolare \\ l'out \\ e \\ E_{tot} ;\\\\\n",
    "    while \\ E_{tot} > \\epsilon \\ (valore \\ desiderato) \\ do: \\\\\n",
    "     \\ \\forall w \\in \\pmb{w}: \\Delta w= - \\ \\frac{\\delta E_{tot}}{\\delta w}; \\ (Step \\ 1) \\\\\n",
    "     \\ w^{new} \\gets w \\ + \\  \\eta \\Delta w \\ + \\ ... \\ ; \\ (Step \\ 2) \\\\\n",
    "     \\ Calcolare \\ out \\ e \\ E_{tot} \\\\\n",
    "    end\n",
    "    $$"
   ]
  },
  {
   "cell_type": "code",
   "execution_count": 29,
   "id": "c024f23a",
   "metadata": {
    "scrolled": false
   },
   "outputs": [
    {
     "ename": "NameError",
     "evalue": "name 'newwb' is not defined",
     "output_type": "error",
     "traceback": [
      "\u001b[1;31m---------------------------------------------------------------------------\u001b[0m",
      "\u001b[1;31mNameError\u001b[0m                                 Traceback (most recent call last)",
      "\u001b[1;32m~\\AppData\\Local\\Temp/ipykernel_14272/392082806.py\u001b[0m in \u001b[0;36m<module>\u001b[1;34m\u001b[0m\n\u001b[0;32m     17\u001b[0m     \u001b[0mh_loss\u001b[0m\u001b[1;33m.\u001b[0m\u001b[0mappend\u001b[0m\u001b[1;33m(\u001b[0m\u001b[0mmse\u001b[0m\u001b[1;33m(\u001b[0m\u001b[0my_dev\u001b[0m\u001b[1;33m,\u001b[0m\u001b[0mout\u001b[0m\u001b[1;33m)\u001b[0m\u001b[1;33m)\u001b[0m\u001b[1;33m\u001b[0m\u001b[1;33m\u001b[0m\u001b[0m\n\u001b[0;32m     18\u001b[0m     \u001b[0mdelta\u001b[0m\u001b[1;33m=\u001b[0m\u001b[0mback_propagation\u001b[0m\u001b[1;33m(\u001b[0m\u001b[0my_dev\u001b[0m\u001b[1;33m,\u001b[0m\u001b[0mout\u001b[0m\u001b[1;33m,\u001b[0m\u001b[0mmse_derivative\u001b[0m\u001b[1;33m,\u001b[0m\u001b[0msigmoid_derivative\u001b[0m\u001b[1;33m,\u001b[0m\u001b[0mwb\u001b[0m\u001b[1;33m,\u001b[0m\u001b[0mL\u001b[0m\u001b[1;33m,\u001b[0m\u001b[0meta\u001b[0m\u001b[1;33m)\u001b[0m\u001b[1;33m\u001b[0m\u001b[1;33m\u001b[0m\u001b[0m\n\u001b[1;32m---> 19\u001b[1;33m     \u001b[0mwb\u001b[0m\u001b[1;33m=\u001b[0m\u001b[0mupdate_wb\u001b[0m\u001b[1;33m(\u001b[0m\u001b[0mwb\u001b[0m\u001b[1;33m,\u001b[0m\u001b[0meta\u001b[0m\u001b[1;33m,\u001b[0m\u001b[0mdelta\u001b[0m\u001b[1;33m,\u001b[0m\u001b[0mhout\u001b[0m\u001b[1;33m)\u001b[0m\u001b[1;33m\u001b[0m\u001b[1;33m\u001b[0m\u001b[0m\n\u001b[0m\u001b[0;32m     20\u001b[0m \u001b[0mout\u001b[0m\u001b[1;33m=\u001b[0m\u001b[0mhout\u001b[0m\u001b[1;33m[\u001b[0m\u001b[1;34m\"o0\"\u001b[0m\u001b[1;33m]\u001b[0m\u001b[1;33m\u001b[0m\u001b[1;33m\u001b[0m\u001b[0m\n\u001b[0;32m     21\u001b[0m \u001b[1;32mfor\u001b[0m \u001b[0ml\u001b[0m \u001b[1;32min\u001b[0m \u001b[0mrange\u001b[0m\u001b[1;33m(\u001b[0m\u001b[1;36m1\u001b[0m\u001b[1;33m,\u001b[0m\u001b[0mL\u001b[0m\u001b[1;33m)\u001b[0m\u001b[1;33m:\u001b[0m\u001b[1;33m\u001b[0m\u001b[1;33m\u001b[0m\u001b[0m\n",
      "\u001b[1;32m~\\AppData\\Local\\Temp/ipykernel_14272/235477446.py\u001b[0m in \u001b[0;36mupdate_wb\u001b[1;34m(wb, eta, delta, hout)\u001b[0m\n\u001b[0;32m     19\u001b[0m \u001b[1;32mdef\u001b[0m \u001b[0mupdate_wb\u001b[0m\u001b[1;33m(\u001b[0m\u001b[0mwb\u001b[0m\u001b[1;33m,\u001b[0m\u001b[0meta\u001b[0m\u001b[1;33m,\u001b[0m\u001b[0mdelta\u001b[0m\u001b[1;33m,\u001b[0m\u001b[0mhout\u001b[0m\u001b[1;33m)\u001b[0m\u001b[1;33m:\u001b[0m\u001b[1;33m\u001b[0m\u001b[1;33m\u001b[0m\u001b[0m\n\u001b[0;32m     20\u001b[0m     \u001b[1;32mfor\u001b[0m \u001b[0ml\u001b[0m \u001b[1;32min\u001b[0m \u001b[0mrange\u001b[0m\u001b[1;33m(\u001b[0m\u001b[0mlen\u001b[0m\u001b[1;33m(\u001b[0m\u001b[0ml_dim\u001b[0m\u001b[1;33m)\u001b[0m\u001b[1;33m-\u001b[0m\u001b[1;36m1\u001b[0m\u001b[1;33m,\u001b[0m\u001b[1;36m0\u001b[0m\u001b[1;33m,\u001b[0m\u001b[1;33m-\u001b[0m\u001b[1;36m1\u001b[0m\u001b[1;33m)\u001b[0m\u001b[1;33m:\u001b[0m\u001b[1;33m\u001b[0m\u001b[1;33m\u001b[0m\u001b[0m\n\u001b[1;32m---> 21\u001b[1;33m         \u001b[0mnewwb\u001b[0m\u001b[1;33m[\u001b[0m\u001b[1;34m'W'\u001b[0m\u001b[1;33m+\u001b[0m\u001b[0mstr\u001b[0m\u001b[1;33m(\u001b[0m\u001b[0ml\u001b[0m\u001b[1;33m)\u001b[0m\u001b[1;33m]\u001b[0m\u001b[1;33m=\u001b[0m \u001b[0mwb\u001b[0m\u001b[1;33m[\u001b[0m\u001b[1;34m'W'\u001b[0m\u001b[1;33m+\u001b[0m\u001b[0mstr\u001b[0m\u001b[1;33m(\u001b[0m\u001b[0ml\u001b[0m\u001b[1;33m)\u001b[0m\u001b[1;33m]\u001b[0m \u001b[1;33m+\u001b[0m \u001b[1;33m(\u001b[0m\u001b[0meta\u001b[0m \u001b[1;33m*\u001b[0m \u001b[1;33m-\u001b[0m\u001b[1;33m(\u001b[0m\u001b[0mdelta\u001b[0m\u001b[1;33m[\u001b[0m\u001b[0ml\u001b[0m\u001b[1;33m-\u001b[0m\u001b[1;36m1\u001b[0m\u001b[1;33m]\u001b[0m\u001b[1;33m.\u001b[0m\u001b[0mT\u001b[0m\u001b[1;33m@\u001b[0m\u001b[0mhout\u001b[0m\u001b[1;33m[\u001b[0m\u001b[1;34m'o'\u001b[0m\u001b[1;33m+\u001b[0m\u001b[0mstr\u001b[0m\u001b[1;33m(\u001b[0m\u001b[0ml\u001b[0m\u001b[1;33m-\u001b[0m\u001b[1;36m1\u001b[0m\u001b[1;33m)\u001b[0m\u001b[1;33m]\u001b[0m\u001b[1;33m)\u001b[0m\u001b[1;33m)\u001b[0m\u001b[1;33m\u001b[0m\u001b[1;33m\u001b[0m\u001b[0m\n\u001b[0m\u001b[0;32m     22\u001b[0m         \u001b[0mnewwb\u001b[0m\u001b[1;33m[\u001b[0m\u001b[1;34m'b'\u001b[0m\u001b[1;33m+\u001b[0m\u001b[0mstr\u001b[0m\u001b[1;33m(\u001b[0m\u001b[0ml\u001b[0m\u001b[1;33m)\u001b[0m\u001b[1;33m]\u001b[0m\u001b[1;33m=\u001b[0m \u001b[0mwb\u001b[0m\u001b[1;33m[\u001b[0m\u001b[1;34m'b'\u001b[0m\u001b[1;33m+\u001b[0m\u001b[0mstr\u001b[0m\u001b[1;33m(\u001b[0m\u001b[0ml\u001b[0m\u001b[1;33m)\u001b[0m\u001b[1;33m]\u001b[0m \u001b[1;33m+\u001b[0m \u001b[0meta\u001b[0m \u001b[1;33m*\u001b[0m \u001b[0mnp\u001b[0m\u001b[1;33m.\u001b[0m\u001b[0msum\u001b[0m\u001b[1;33m(\u001b[0m\u001b[0mdelta\u001b[0m\u001b[1;33m[\u001b[0m\u001b[0ml\u001b[0m\u001b[1;33m-\u001b[0m\u001b[1;36m1\u001b[0m\u001b[1;33m]\u001b[0m\u001b[1;33m)\u001b[0m\u001b[1;33m\u001b[0m\u001b[1;33m\u001b[0m\u001b[0m\n\u001b[0;32m     23\u001b[0m     \u001b[1;32mreturn\u001b[0m \u001b[0mnewwb\u001b[0m\u001b[1;33m\u001b[0m\u001b[1;33m\u001b[0m\u001b[0m\n",
      "\u001b[1;31mNameError\u001b[0m: name 'newwb' is not defined"
     ]
    }
   ],
   "source": [
    "l_dim=[X_dev.shape[1],3,1]\n",
    "wb=init_wb(l_dim,eps=1)\n",
    "L=len(l_dim)\n",
    "hout = {}\n",
    "X_norm = preprocessing.scale(X_dev)\n",
    "hout[\"o0\"]=X_norm\n",
    "a_loss=[]\n",
    "epochs=800\n",
    "eta=0.001\n",
    "h_loss=[]\n",
    "for i in range(0,epochs):\n",
    "    out=hout[\"o0\"]\n",
    "    for l in range(1,L):\n",
    "        net,out= forward_propagation(out,wb[\"W\"+str(l)],wb[\"b\"+str(l)],sigmoid_af)\n",
    "        hout[\"o\"+str(l)]=out\n",
    "        hout[\"h\"+str(l)]=net\n",
    "    h_loss.append(mse(y_dev,out))\n",
    "    delta=back_propagation(y_dev,out,mse_derivative,sigmoid_derivative,wb,L,eta)\n",
    "    wb=update_wb(wb,eta,delta,hout)\n",
    "out=hout[\"o0\"]\n",
    "for l in range(1,L):\n",
    "    net,out= forward_propagation(out,wb[\"W\"+str(l)],wb[\"b\"+str(l)],sigmoid_af)\n",
    "    hout[\"o\"+str(l)]=out\n",
    "    hout[\"h\"+str(l)]=net\n",
    "h_loss.append(mse(y_dev,out))\n",
    "plt.plot(range(0,epochs+1),h_loss)\n",
    "plt.xlabel(\"epoch\")\n",
    "plt.ylabel(\"MSE\")\n",
    "plt.show()\n",
    "\n",
    "print(\"MSE:\",mse(y_dev,hout[\"o\"+str(l)]))\n",
    "print(\"SKLearnMSE\",mean_squared_error(y_dev,hout[\"o\"+str(l)])/2)\n",
    "#Train set\n",
    "signout=np.sign(hout[\"o\"+str(l)])\n",
    "for i,s in enumerate (hout[\"o\"+str(l)]):\n",
    "    if s[0]<=0.5:\n",
    "        signout[i][0]=0\n",
    "    else:\n",
    "        signout[i][0]=1\n",
    "\n",
    "nerr=classification_error(y_dev,signout,True)\n",
    "l = y_dev.shape[0]\n",
    "print(\"Train set # Errori \", nerr , \"su:\",y_dev.shape[0],\"elementi =\",(l-nerr)/y_dev.shape[0]*100,\"%\")\n",
    "X_testnorm = preprocessing.scale(X_test)\n",
    "hout[\"o0\"]=X_testnorm\n",
    "out=hout[\"o0\"]\n",
    "for l in range(1,L):\n",
    "    net,out= forward_propagation(out,wb[\"W\"+str(l)],wb[\"b\"+str(l)],sigmoid_af)\n",
    "    hout[\"o\"+str(l)]=out\n",
    "    hout[\"h\"+str(l)]=net\n",
    "print(\"MSE:\",mse(y_test,hout[\"o\"+str(l)]))\n",
    "print(\"SKLearnMSE\",mean_squared_error(y_test,hout[\"o\"+str(l)])/2)\n",
    "\n",
    "#Test set\n",
    "signout=np.sign(hout[\"o\"+str(l)])\n",
    "for i,s in enumerate (hout[\"o\"+str(l)]):\n",
    "    if s[0]<=0.5:\n",
    "        signout[i][0]=0\n",
    "    else:\n",
    "        signout[i][0]=1\n",
    "tl = y_test.shape[0]\n",
    "terr=classification_error(y_test,signout)\n",
    "print(\"TEST set # Errori \", terr , \"su:\",y_test.shape[0],\"elementi =\",(tl-terr)/y_test.shape[0]*100,\"%\")"
   ]
  },
  {
   "cell_type": "code",
   "execution_count": null,
   "id": "cfbff9a6",
   "metadata": {},
   "outputs": [],
   "source": []
  },
  {
   "cell_type": "code",
   "execution_count": null,
   "id": "53f4e53d",
   "metadata": {},
   "outputs": [],
   "source": []
  }
 ],
 "metadata": {
  "kernelspec": {
   "display_name": "Python 3 (ipykernel)",
   "language": "python",
   "name": "python3"
  },
  "language_info": {
   "codemirror_mode": {
    "name": "ipython",
    "version": 3
   },
   "file_extension": ".py",
   "mimetype": "text/x-python",
   "name": "python",
   "nbconvert_exporter": "python",
   "pygments_lexer": "ipython3",
   "version": "3.9.7"
  }
 },
 "nbformat": 4,
 "nbformat_minor": 5
}
