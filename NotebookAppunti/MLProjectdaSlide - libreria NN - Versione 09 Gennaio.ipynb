{
 "cells": [
  {
   "cell_type": "markdown",
   "id": "e60d0971",
   "metadata": {},
   "source": [
    "## TODO: Commentare CODICE!, BackPropagation, Funzioni per la validazione, creata la rete neurale da utilizzare prima i datasets MONK e sul dataset per la CUP ."
   ]
  },
  {
   "cell_type": "markdown",
   "id": "3dae8622",
   "metadata": {},
   "source": [
    "Import delle librerie (\"as\" serve a specificare come nel codice le librerie vengono richiamate.):\n",
    "- **matplotlib** per creare in output grafici\n",
    "- **pandas** per gestire i csv o gli excel\n",
    "- **numpy** per operazioni su matrici e vettori\n",
    "- **time** per valutazione sui tempi di esecuzione"
   ]
  },
  {
   "cell_type": "code",
   "execution_count": 1,
   "id": "06202c02",
   "metadata": {},
   "outputs": [],
   "source": [
    "import matplotlib.pyplot as plt\n",
    "import pandas as pd\n",
    "import numpy as np\n",
    "import time"
   ]
  },
  {
   "cell_type": "markdown",
   "id": "362b2a98",
   "metadata": {},
   "source": [
    "Import libreria **sklearn** per il machine learning utilizzata per i primi Test, forse non serviranno in futuro\n",
    "- load_breast_cancer: datasets per primi test\n",
    "- traint_test_split: divide il dataset in maniera randomica creando il training set e il test set in base a i parametri dati\n",
    "- mean_squared_error per verificare se la nostra versione funziona "
   ]
  },
  {
   "cell_type": "code",
   "execution_count": 2,
   "id": "f4a5057e",
   "metadata": {},
   "outputs": [],
   "source": [
    "import sklearn\n",
    "from sklearn.datasets import load_breast_cancer\n",
    "from sklearn.model_selection import train_test_split\n",
    "from sklearn.metrics import mean_squared_error"
   ]
  },
  {
   "cell_type": "markdown",
   "id": "bd372ba5",
   "metadata": {},
   "source": [
    "Funzione **init_wb** che inizializza i pesi W e i Bias a zero.\n",
    "- l_dim array che continene la dimensione della rete (include anche l'input layer e l'output layer). *Esempio rete con 6 input due hidden layer da 3 e 5 unità e un singolo output prende in input l'array [6,3,5,1]*\n",
    "- parametro seed per la funzione random così da avere numeri casuali uguali per test sugli stessi dati.\n",
    "- eps un valore tra 0 e 1 per regolarizzazione ulteriore dei pesi W facendogli assumere valori bassi di default è 1"
   ]
  },
  {
   "cell_type": "code",
   "execution_count": 3,
   "id": "5c4f536b",
   "metadata": {},
   "outputs": [],
   "source": [
    "def init_wb(l_dim, seed=30,eps=1):\n",
    "    \n",
    "    np.random.seed(seed)\n",
    "    wb = {}\n",
    "    \n",
    "    #L dimensione della rete\n",
    "    L = len(l_dim)\n",
    "    \n",
    "    for l in range(1, L):\n",
    "        #Inizializzo i pesi maniera randomica e in un range regolato da eps\n",
    "        wb['W'+str(l)] = np.random.randn(l_dim[l],l_dim[l-1]) * eps\n",
    "        #Inizializzo i bias a zero  \n",
    "        wb['b'+str(l)] = np.zeros((l_dim[l], 1))\n",
    "        \n",
    "    return wb"
   ]
  },
  {
   "cell_type": "markdown",
   "id": "be74e040",
   "metadata": {},
   "source": [
    "Test di **init_wb** che stampa la dimensione e l'array dei pesi dei layer.\n",
    "La Matrice W risultante sarà  quindi per n numero unità layer e m numero input<br>\n",
    "[w1,1 w1,2 ... w1,m]<br>\n",
    "[w2,1 w2,2 ... w2,m]<br>\n",
    "[          ...     ]<br>\n",
    "[wn,1 wi,2 ... wi,m]<br>\n",
    "\n",
    "**w**ij il peso relativo all'unità *i* e l'input *j*. I bias sono di default zero per ogni layer"
   ]
  },
  {
   "cell_type": "code",
   "execution_count": 4,
   "id": "62397b84",
   "metadata": {},
   "outputs": [
    {
     "name": "stdout",
     "output_type": "stream",
     "text": [
      "Shape W1 (3, 6) Shape b1 (3, 1) [[-1.26405266  1.52790535 -0.97071094  0.47055962 -0.10069672  0.30379318]\n",
      " [-1.72596243  1.58509537  0.13429659 -1.10685547  1.57822555  0.10749794]\n",
      " [-0.76404783 -0.77518851  1.38384717  0.76038508 -0.28564551  0.53836748]]\n",
      "Shape W2 (2, 3) Shape b2 (2, 1) [[-2.08389663  0.93778171 -0.005778  ]\n",
      " [-0.46747897 -0.4230153   1.06448209]]\n",
      "Shape W3 (1, 2) Shape b3 (1, 1) [[-2.9033676   1.61689037]]\n"
     ]
    }
   ],
   "source": [
    "l_dim=[6,3,2,1]\n",
    "L=len(l_dim)\n",
    "wb=init_wb(l_dim)\n",
    "for l in range(1,L):\n",
    "    print(\"Shape W\"+str(l),wb[\"W\"+str(l)].shape, \"Shape b\"+str(l),wb[\"b\"+str(l)].shape,wb[\"W\"+str(l)] )"
   ]
  },
  {
   "cell_type": "markdown",
   "id": "cdb1ada6",
   "metadata": {},
   "source": [
    "###### !Ditemi se vi torna come l'ho spiegata, non sono convinto! \n",
    "La funzione **linear_af** applica  funzione lineare utilizzando la matrice **W** dei pesi e il dataset degli input **X**.<br>\n",
    "*p* numero dei pattern di X, *n* dimensione degli input, *i* numero unità.<br>\n",
    "- x*pj* = input j del pattern p\n",
    "- w*ij* = peso j unita i\n",
    "- h(xip) = output dell'unità i del pattern p\n",
    "$$ h(x_{ip}) = \\sum_{1}^n w_{ij} * x^T_{jp} $$"
   ]
  },
  {
   "cell_type": "code",
   "execution_count": 5,
   "id": "2ded1f5f",
   "metadata": {},
   "outputs": [],
   "source": [
    "def linear_af(w,X,b):\n",
    "    \n",
    "    h = np.dot(w,X.T)+b\n",
    "    \n",
    "    return h"
   ]
  },
  {
   "cell_type": "markdown",
   "id": "6e51b3e5",
   "metadata": {},
   "source": [
    "Test della funzione **linear_af** (linear activation function)\n",
    "Nella stampa  due unità quindi con riferimento all'esempio precedente **i** da 1 a 2, 6 input **j** da 1 a 6 e due pattern **p** da uno a 2. \n",
    "Risultato una matrice h con nelle righe l'output di ogni unità e sulle colonne l'output relativo al pattern\n"
   ]
  },
  {
   "cell_type": "code",
   "execution_count": 6,
   "id": "69997f72",
   "metadata": {},
   "outputs": [
    {
     "name": "stdout",
     "output_type": "stream",
     "text": [
      "W\n",
      "[[-1.26405266  1.52790535 -0.97071094  0.47055962 -0.10069672  0.30379318]\n",
      " [-1.72596243  1.58509537  0.13429659 -1.10685547  1.57822555  0.10749794]]\n",
      "X\n",
      "[[0 0 1 0 1 0]\n",
      " [0 1 1 1 0 1]]\n",
      "b\n",
      "[[1.]]\n",
      "H\n",
      "[[-0.07140765  2.33154721]\n",
      " [ 2.71252214  1.72003444]]\n"
     ]
    }
   ],
   "source": [
    "np.random.seed(30)\n",
    "#Pesi per due unità matrice 2x6 (riga pesi unità) (colonna pesi per input)\n",
    "w= np.random.randn(2,6)\n",
    "#Input random con valori zero e uno 2x6 (riga  pattern da sei input) quindi due pattern da sei input\n",
    "X = np.random.randint(2, size=(2,6))\n",
    "b = np.ones((1,1))\n",
    "\n",
    "print(\"W\",w,\"X\",X,\"b\",b,sep=\"\\n\")\n",
    "# L'output della funzione h sarà una 2x2 ogni unità  (riga) avrà un output per ogni pattern (colonna)\n",
    "h= linear_af(w,X,b)\n",
    "print(\"H\",h,sep=\"\\n\")\n"
   ]
  },
  {
   "cell_type": "markdown",
   "id": "2eca3d64",
   "metadata": {},
   "source": [
    "**perceptron_af** Perceptron activation function. Ritorna il segno della funzione lineare quindi -1 o +1, se parametro zero è True ritorna 0 al posto di -1.\n",
    "- net risultato della rete (funzione lineare)\n",
    "- zero booleano di default è falso"
   ]
  },
  {
   "cell_type": "code",
   "execution_count": 7,
   "id": "3afd8730",
   "metadata": {},
   "outputs": [],
   "source": [
    "def perceptron_af(net,zero=False):\n",
    "    x=np.array(np.sign(net))\n",
    "    if zero:\n",
    "        x=np.where(x<0,0,x)\n",
    "    return x"
   ]
  },
  {
   "cell_type": "markdown",
   "id": "724ef004",
   "metadata": {},
   "source": [
    "Test della funzione **perceptron_af** su l'h del precedente test e su un input continuo\n"
   ]
  },
  {
   "cell_type": "code",
   "execution_count": 8,
   "id": "637a4ad8",
   "metadata": {},
   "outputs": [
    {
     "name": "stdout",
     "output_type": "stream",
     "text": [
      "[[0. 1.]\n",
      " [1. 1.]]\n",
      "[[-1.  1.]\n",
      " [ 1.  1.]]\n"
     ]
    },
    {
     "data": {
      "text/plain": [
       "Text(0, 0.5, 'Sign(X)')"
      ]
     },
     "execution_count": 8,
     "metadata": {},
     "output_type": "execute_result"
    },
    {
     "data": {
      "image/png": "[encoded data removed]",
      "text/plain": [
       "<Figure size 432x288 with 1 Axes>"
      ]
     },
     "metadata": {
      "needs_background": "light"
     },
     "output_type": "display_data"
    }
   ],
   "source": [
    "print(perceptron_af(h,zero=True))\n",
    "print(perceptron_af(h))\n",
    "\n",
    "x = np.linspace(-10, 10, 100)\n",
    "z =np.sign(x)\n",
    "plt.plot(x, z)\n",
    "plt.xlabel(\"x\")\n",
    "plt.ylabel(\"Sign(X)\")"
   ]
  },
  {
   "cell_type": "markdown",
   "id": "b71d7bb1",
   "metadata": {},
   "source": [
    "**sigmoid_af** Sigmoid activation function. Ritorna il valore dalla sigmoide applicato alla funzione lineare.\n",
    "- net risultato della rete (funzione lineare)\n",
    "$$ \\sigma_{(net)} = \\frac{1}{e^{-net}} $$\n",
    "**sigmoid_derivative** derivata della sigmoide:\n",
    "    $$ \\sigma^{'}=\\sigma_{(net)} * (1 - \\sigma_{(net)}) $$\n",
    "\n",
    "- net risultato della rete (funzione lineare) \n",
    "\n"
   ]
  },
  {
   "cell_type": "code",
   "execution_count": 9,
   "id": "f1925b16",
   "metadata": {},
   "outputs": [],
   "source": [
    "def sigmoid_af(net):\n",
    "    sf= 1/(1 + np.exp(-net))\n",
    "    return sf\n",
    "\n",
    "def sigmoid_derivative(net):\n",
    "    return sigmoid_af(net) * (1- sigmoid_af(net))"
   ]
  },
  {
   "cell_type": "markdown",
   "id": "1b514e89",
   "metadata": {},
   "source": [
    "Test sigmoid activation function sul risultato del precedente h e stampa del grafico su valori continui\n"
   ]
  },
  {
   "cell_type": "code",
   "execution_count": 10,
   "id": "8a299c7b",
   "metadata": {},
   "outputs": [
    {
     "name": "stdout",
     "output_type": "stream",
     "text": [
      "[[0.48215567 0.91145628]\n",
      " [0.93776152 0.84813327]]\n"
     ]
    },
    {
     "data": {
      "image/png": "[encoded data removed]",
      "text/plain": [
       "<Figure size 432x288 with 1 Axes>"
      ]
     },
     "metadata": {
      "needs_background": "light"
     },
     "output_type": "display_data"
    },
    {
     "data": {
      "image/png": "[encoded data removed]",
      "text/plain": [
       "<Figure size 432x288 with 1 Axes>"
      ]
     },
     "metadata": {
      "needs_background": "light"
     },
     "output_type": "display_data"
    }
   ],
   "source": [
    "s=sigmoid_af(h)\n",
    "print(s)\n",
    "x = np.linspace(-10, 10, 100)\n",
    "z = sigmoid_af(x)\n",
    "plt.plot(x, z)\n",
    "plt.xlabel(\"x\")\n",
    "plt.ylabel(\"Sigmoid(X)\")\n",
    "  \n",
    "plt.show()\n",
    "z = sigmoid_derivative(x)\n",
    "plt.plot(x, z)\n",
    "plt.xlabel(\"x\")\n",
    "plt.ylabel(\"Sigmoid(X)\")\n",
    "  \n",
    "plt.show()"
   ]
  },
  {
   "cell_type": "markdown",
   "id": "c2aab00f",
   "metadata": {},
   "source": [
    "Funzione **mse** calcola il Mean squared error parametri:\n",
    "- matrice dei target **Y** \n",
    "- matrice **Y_hat** delle predizioni\n",
    "- reg valore regolarizzazione di default 0\n",
    "- a_loss array nel quale si vuole appendere la loss calcolata\n",
    " $$MSE  = \\frac{1}{n} \\sum_{i=1}^n (Y_i - \\hat{Y}_i)^2 $$\n",
    "\n",
    "Nota: Nel codice è comentata una linea nel caso si voglia moltiplicare la media per 1/2l cosi da eliminare il due, perché nel calcolo della dericata della cost functionsi può togliere la moltiplicazione per meno due. L'ho trovato scritto in entrambi i modi non sono convinto quale sia il migliore."
   ]
  },
  {
   "cell_type": "code",
   "execution_count": 11,
   "id": "383b0c35",
   "metadata": {},
   "outputs": [],
   "source": [
    "def mse(Y,Y_hat,reg=0, a_loss=None,verbose=False):\n",
    "    l=Y.shape[0]\n",
    "    loss=np.sum(np.square(np.subtract(Y,Y_hat))) + reg\n",
    "    loss=loss*(1/l)\n",
    "    \n",
    "    #PRINT PER CONTROLLARE LE DIMENSIONI\n",
    "    if verbose:\n",
    "        print(Y.shape, Y_hat.shape,np.subtract(Y,Y_hat).shape)\n",
    "        print(Y,Y_hat)\n",
    "        print(np.subtract(Y,Y_hat))\n",
    "    \n",
    "    #cancellando il due\n",
    "    #loss=loss*(1/2l)\n",
    "    if a_loss != None:\n",
    "        a_loss.append(loss)\n",
    "    return loss, a_loss\n",
    "\n"
   ]
  },
  {
   "cell_type": "markdown",
   "id": "1392d361",
   "metadata": {},
   "source": [
    "Funzione **gradient_mse** calcola il  gradiente del Mean squared error prametri:\n",
    "- matrice dei  target **Y** \n",
    "- matrice degli **Y_hat** delle predizioni\n",
    "- matrice degli input **X**\n",
    "    $$Gradient MSE \\frac{\\delta E_{(W)}}{\\delta w_j} = -2 \\sum_{p=1}^n (y_p - \\hat{y}_p) * x_{p,j} $$\n",
    "  Utilizzando le operazioni con le matrici:\n",
    "  $$ Gradient MSE \\Delta W = -2 *  (Y - \\hat{Y}) * X $$\n"
   ]
  },
  {
   "cell_type": "code",
   "execution_count": 12,
   "id": "33ad35c7",
   "metadata": {},
   "outputs": [],
   "source": [
    "def gradient_mse(Y,Y_hat,x,verbose=False):\n",
    "    dp = np.subtract(Y,Y_hat)\n",
    "    \n",
    "    #p = il numero dei pattern che corrisponde al numero di righe di Y.\n",
    "    p = Y.shape[0]\n",
    "    #cancellando il due nell'mse non devo molptiplicare per meno due\n",
    "    #gradient= - np.dot(dp.T,x)\n",
    "    gradient = -2 * np.dot(dp,x)\n",
    "    #divido i gradienti trovati per p che è il numero dei pattern\n",
    "    gradient = gradient/p\n",
    "    #PRINT PER CONTROLLARE LE DIMENSIONI    \n",
    "    if verbose==True:\n",
    "        print(\"Y shape\", Y.shape,\"Y_hat shape\", Y_hat.shape,\"Subtract Shape\",np.subtract(Y,Y_hat).shape)\n",
    "        print(\"Y\",Y,\"Y_H\",Y_hat)\n",
    "        print(\"Y-Y_H\",np.subtract(Y,Y_hat))\n",
    "        print(\"GMSE Sub:\",dp.shape, x.shape)\n",
    "    return gradient"
   ]
  },
  {
   "cell_type": "markdown",
   "id": "26fc5be6",
   "metadata": {},
   "source": [
    "Funzione **mse** applicando la sigmoide alla rete passata come argomento. Parametri:\n",
    "- matrice dei target **Y** \n",
    "- matrice net della funzione lineare Wt*x + b\n",
    "- a_loss array nel quale si vuole appendere la loss calcolata"
   ]
  },
  {
   "cell_type": "code",
   "execution_count": 13,
   "id": "a068205a",
   "metadata": {},
   "outputs": [],
   "source": [
    "def mse_logistic(Y,net,reg=0,a_loss=None):\n",
    "    sig=sigmoid_af(net)\n",
    "    \n",
    "    return mse(Y,sig,0,reg, a_loss)"
   ]
  },
  {
   "cell_type": "markdown",
   "id": "784c8605",
   "metadata": {},
   "source": [
    "Calcolo del gradiente applicato alla sigmoide"
   ]
  },
  {
   "cell_type": "code",
   "execution_count": 14,
   "id": "492a1550",
   "metadata": {},
   "outputs": [],
   "source": [
    "def gradient_mse_logistic(Y,net,x):\n",
    "    sig=sigmoid_af(net)\n",
    "    dp = np.subtract(Y,sig)*sigmoid_derivative(net)\n",
    "    p = Y.shape[0]\n",
    "    gradient= -2 * np.dot(dp,x)\n",
    "    gradient= gradient/p\n",
    "\n",
    "    return gradient\n"
   ]
  },
  {
   "cell_type": "markdown",
   "id": "eeb60817",
   "metadata": {},
   "source": [
    "Questa funzione applica l'equazione normale per trovare la soluzione direttamente. Non so se serve nel progetto, l'ho implementata per prova.\n",
    "We can get the normal equation (point with gradient of E w.r.t w =0):\n",
    "$$ (X^T X)w = X^Ty $$\n",
    "- If X^TX is not singular the unique solution is given by: $$ w= (X^T X)^{-1}X^T y = X^{+} y $$\n",
    "    - \"+\" = Moore-Penrose pseudoinverse (also if X is not invertible)\n",
    "- Else the solution are infinite (satisfying the normal equation):\n",
    "we can choose the min norm (w) solution \n",
    "\n",
    "Normal Equation:\n",
    "- don't need to choose α \n",
    "- don't need to iterate - computed in one step \n",
    "- slow if n is large (n⩾10^4)\n",
    "- need to compute (X^T X)^−1 - very slow \n",
    "- if (X^T X) is not-invertible - we have problems\n",
    "\n",
    "Gradient Descent: \n",
    "- need to choose learning rate α \n",
    "- need to do many iterations \n",
    "- works well with large n\n"
   ]
  },
  {
   "cell_type": "code",
   "execution_count": 15,
   "id": "2f202220",
   "metadata": {},
   "outputs": [],
   "source": [
    "def normal_equation(X,Y,pseudo=False):\n",
    "    if pseudo:\n",
    "        pinv=np.linalg.pinv(X)\n",
    "        direct=pinv.dot(Y)\n",
    "    else:\n",
    "        direct=np.linalg.inv(X.T.dot(X)).dot(X.T).dot(Y)\n",
    "    \n",
    "    return direct\n",
    "    "
   ]
  },
  {
   "cell_type": "markdown",
   "id": "566176d9",
   "metadata": {},
   "source": [
    "Test del calcolo del gradiente e della funzione di costo con array del dataset Load Breast Cancer.\n",
    "- Calcolo l'mse con la nostra funzione e confronto con la libreria SKLEARN\n",
    "\n",
    "- Provo se riesce il calcolo del gradiente della funzione di costo applicato alla funzione lineare (DA VERIFICARE SE CORRETTO)\n",
    "- Provo se riesce il calcolo del gradiente della funzione di costo applicato alla funzione logistica (DA VERIFICARE SE CORRETTO)\n",
    "\n",
    "- Calcolo il costo utilizzando il metodo diretto dell'equazione normale. "
   ]
  },
  {
   "cell_type": "code",
   "execution_count": 16,
   "id": "1620bb5f",
   "metadata": {
    "scrolled": false
   },
   "outputs": [
    {
     "name": "stdout",
     "output_type": "stream",
     "text": [
      "Cost MSE=  1.3649921828190998\n",
      "Cost MSE SKLEARN= 1.3649921828190998\n",
      "Gradient [[1.92729254e+01 2.05739207e+01 1.28424380e+02 1.25248648e+03\n",
      "  9.31708145e-02 1.59923829e-01 2.04779069e-01 1.13757664e-01\n",
      "  1.74930998e-01 5.28188717e-02 7.61469918e-01 9.70158074e-01\n",
      "  5.40220866e+00 1.02825329e+02 5.21263087e-03 3.24709732e-02\n",
      "  4.41274799e-02 1.56381539e-02 1.72940318e-02 3.38446157e-03\n",
      "  2.40806594e+01 2.79241612e+01 1.62201266e+02 1.89717441e+03\n",
      "  1.31355738e-01 4.10582981e-01 5.35525493e-01 2.17478620e-01\n",
      "  3.00798112e-01 8.13971083e-02]]\n",
      "Gradient Sigmoid [[ 2.18460404e-01  4.06401037e-02  1.63842744e+00  2.88023672e+01\n",
      "  -4.53000194e-04  4.13264442e-03  7.97982388e-03  4.24338528e-03\n",
      "  -7.92221782e-04 -8.80397670e-04  1.65680691e-02 -2.26677967e-02\n",
      "   1.20222024e-01  2.80512461e+00 -1.68765780e-04  5.65239554e-04\n",
      "   8.78772921e-04  2.82250716e-04 -3.12514254e-04 -2.99434697e-05\n",
      "   3.67500593e-01  1.41641148e-01  2.68959025e+00  4.94727848e+01\n",
      "  -1.70026514e-04  1.39244842e-02  2.13516702e-02  7.57399045e-03\n",
      "   1.14695082e-03 -1.18378714e-05]]\n",
      "Direct [ 4.05448155e-01 -2.63367627e-03 -2.04684102e-02 -2.05245993e-03\n",
      " -7.38846916e-01 -1.93042266e-02 -8.18633507e-01 -2.60648945e+00\n",
      "  2.91070544e-01  2.65367808e+01 -6.16718033e-01  8.79181830e-04\n",
      "  3.52035354e-02  2.32353703e-03 -1.46360260e+01  2.29025726e+00\n",
      "  3.72309203e+00 -1.23649799e+01 -2.16060487e-01 -1.02766462e+01\n",
      " -2.35932280e-01 -7.12079350e-03  5.49091421e-03  1.17706006e-03\n",
      "  1.00422839e+00  1.00402865e-01 -5.16677647e-01 -7.24962934e-01\n",
      " -6.35033719e-01 -5.49311872e+00]\n",
      "Cost Normal Equation 0.05711497283034317\n"
     ]
    }
   ],
   "source": [
    "X, y = load_breast_cancer(return_X_y= True)\n",
    "X_dev, X_test, y_dev, y_test = train_test_split(X,y,test_size=100, stratify=y, shuffle=True, random_state=42)\n",
    "l_dim=[X_dev.shape[1],1,1]\n",
    "wb=init_wb(l_dim,eps=0.001)\n",
    "w=wb[\"W\"+str(1)]\n",
    "b=wb[\"b\"+str(1)]\n",
    "h = linear_af(w,X_dev,b)\n",
    "print(\"Cost MSE= \", mse(y_dev,h)[0])\n",
    "print(\"Cost MSE SKLEARN=\" ,mean_squared_error([y_dev],h))\n",
    "print(\"Gradient\", gradient_mse(y_dev,h,X_dev))\n",
    "print(\"Gradient Sigmoid\", gradient_mse_logistic(y_dev,h,X_dev))\n",
    "\n",
    "direct=normal_equation(X_dev,y_dev,True)\n",
    "print(\"Direct\",direct )\n",
    "dh=linear_af(direct,X_dev,b)\n",
    "cost=mse(y_dev,dh)[0]\n",
    "print(\"Cost Normal Equation\", cost)"
   ]
  },
  {
   "cell_type": "markdown",
   "id": "3654fdc1",
   "metadata": {},
   "source": [
    "La funzione **classification_error** prende come parametri y il valori reali e y_hat la predizione di classificazione della rete. Ritorna il numero di predizioni errate"
   ]
  },
  {
   "cell_type": "code",
   "execution_count": 17,
   "id": "d688ed18",
   "metadata": {},
   "outputs": [],
   "source": [
    "def classification_error(y, y_hat,verbose=False):\n",
    "    num_err=0\n",
    "    index = 0\n",
    "    if verbose==True:\n",
    "        print(\"Y shape\",y.shape,\"Y_H shape\",y_hat.shape)\n",
    "    for o in  y_hat[0]:\n",
    "        if o != y[index]:\n",
    "            num_err+=1\n",
    "        index+=1\n",
    "    return num_err"
   ]
  },
  {
   "cell_type": "markdown",
   "id": "b6033e03",
   "metadata": {},
   "source": [
    "Funzione **gradient_descent** calcola la nuova matrice W utilizzando la formula del gradient descent.\n",
    "Parametri:\n",
    "    - W matrice dei pesi\n",
    "    - eta learning rate\n",
    "    - gradiente dell'Errore rispeto alla matrice W\n",
    "Ritorna la nuova matrice W"
   ]
  },
  {
   "cell_type": "code",
   "execution_count": 18,
   "id": "60d3a342",
   "metadata": {},
   "outputs": [],
   "source": [
    "def gradient_descent(w,eta,gradient):\n",
    "    dw= - gradient\n",
    "    newW= w + (eta * dw)\n",
    "    \n",
    "    return newW"
   ]
  },
  {
   "cell_type": "markdown",
   "id": "27ed9aae",
   "metadata": {},
   "source": [
    "Test dell'algoritmo del gradient descent e confronto dei costi prima e dopo l'aggiornamento di W sia con gradiente che senza"
   ]
  },
  {
   "cell_type": "code",
   "execution_count": 19,
   "id": "df744483",
   "metadata": {},
   "outputs": [
    {
     "name": "stdout",
     "output_type": "stream",
     "text": [
      "Error Gradient:  [[1.92729254e+01 2.05739207e+01 1.28424380e+02 1.25248648e+03\n",
      "  9.31708145e-02 1.59923829e-01 2.04779069e-01 1.13757664e-01\n",
      "  1.74930998e-01 5.28188717e-02 7.61469918e-01 9.70158074e-01\n",
      "  5.40220866e+00 1.02825329e+02 5.21263087e-03 3.24709732e-02\n",
      "  4.41274799e-02 1.56381539e-02 1.72940318e-02 3.38446157e-03\n",
      "  2.40806594e+01 2.79241612e+01 1.62201266e+02 1.89717441e+03\n",
      "  1.31355738e-01 4.10582981e-01 5.35525493e-01 2.17478620e-01\n",
      "  3.00798112e-01 8.13971083e-02]]\n",
      "Cost:  1.3649921828190998\n",
      "Cost with new W:  0.926616509864239\n",
      "Penalty term:  4.261717943104881e-06\n",
      "Cost with penalty term:  1.3649921919059183\n",
      "Cost new W with penalty term:  0.9266165509048191\n"
     ]
    }
   ],
   "source": [
    "print(\"Error Gradient: \", gradient_mse(y_dev,h,X_dev))\n",
    "cost=mse(y_dev,h)[0]\n",
    "print(\"Cost: \",cost)\n",
    "eta=0.0000001\n",
    "newW= gradient_descent(w,eta,gradient_mse(y_dev,h,X_dev))\n",
    "gh=linear_af(newW,X_dev,b)\n",
    "cost=mse(y_dev,gh)[0]\n",
    "print(\"Cost with new W: \",cost)\n",
    "tihk=0.1\n",
    "reg= tihk * np.square(np.linalg.norm(w))\n",
    "print(\"Penalty term: \",reg)\n",
    "cost=mse(y_dev,h,reg)[0]\n",
    "print(\"Cost with penalty term: \",cost)\n",
    "gradreg = 2*tihk*w\n",
    "newW = gradient_descent(w,eta,gradient_mse(y_dev,h,X_dev) - gradreg)\n",
    "gh=linear_af(newW,X_dev,b)\n",
    "cost=mse(y_dev,gh,reg)[0]\n",
    "print(\"Cost new W with penalty term: \",cost)\n"
   ]
  },
  {
   "cell_type": "markdown",
   "id": "b61d946f",
   "metadata": {},
   "source": [
    "Importo Nuovamente i datasets di test e verifico le dimensioni"
   ]
  },
  {
   "cell_type": "code",
   "execution_count": 20,
   "id": "07ae71cb",
   "metadata": {},
   "outputs": [
    {
     "data": {
      "text/plain": [
       "((469, 30), (100, 30))"
      ]
     },
     "execution_count": 20,
     "metadata": {},
     "output_type": "execute_result"
    }
   ],
   "source": [
    "X, y = load_breast_cancer(return_X_y= True)\n",
    "#X_dev, X_test, y_dev, y_test = train_test_split(X,y,test_size=100, stratify=y, shuffle=True, random_state=42)\n",
    "X_dev, X_test, y_dev, y_test = train_test_split(X,y,test_size=100, stratify=y, shuffle=True, random_state=42)\n",
    "\n",
    "X_dev.shape, X_test.shape"
   ]
  },
  {
   "cell_type": "markdown",
   "id": "42b3007a",
   "metadata": {},
   "source": [
    "Test errore di classificazione sul dataset breast cancer. Per prima cosa creo una rete con un singola unità. Applico l'equazione normale per trovare i valori di W e applico la la funzione lineare. Utilizzo il perceptron come funzione di attivazione e verifico gli elementi classificati errati sia sul training test che sul test set."
   ]
  },
  {
   "cell_type": "code",
   "execution_count": 28,
   "id": "ee9ad94b",
   "metadata": {},
   "outputs": [
    {
     "name": "stdout",
     "output_type": "stream",
     "text": [
      "Train set # Errori  119 su: 469 elementi = 74.6268656716418 %\n",
      "Test set # Errori  28 su: 100 elementi = 72.0 %\n",
      "MSE Train set NormalEquation:  0.2537313432835821 MSE Test set NormalEquation:  0.28\n",
      "SKlearn MSE Train set NormalEquation:  0.2537313432835821 SKlearn MSE Test set NormalEquation:  0.28\n"
     ]
    }
   ],
   "source": [
    "l_dim=[X_dev.shape[1],1,1]\n",
    "wb=init_wb(l_dim,eps=0)\n",
    "w=wb[\"W\"+str(1)]\n",
    "b=wb[\"b\"+str(1)]\n",
    "l = y_dev.shape[0]\n",
    "#applico l'equazione normale per trovare la soluzione \n",
    "normalw = normal_equation(X_dev,y_dev)\n",
    "#applico la funzione lineare alla soluzione trovata\n",
    "h=linear_af(normalw,X_dev,b)\n",
    "#utilizzo la funzione di attivazione del perceptron per recuperare i segni della mia funzione lineare\n",
    "out=perceptron_af(h,zero=True)\n",
    "#verifico il numero di errori di classificazione\n",
    "err=classification_error(y_dev,out)\n",
    "print(\"Train set # Errori \",err, \"su:\",y_dev.shape[0],\"elementi =\",(l-err)/y_dev.shape[0]*100,\"%\")\n",
    "\n",
    "cost_history=[]\n",
    "cost,cost_history = mse(y_dev,out,0,cost_history)\n",
    "skcost=mean_squared_error([y_dev],out)\n",
    "\n",
    "#Applico al Test set\n",
    "h=linear_af(normalw,X_test,b)\n",
    "\n",
    "out=perceptron_af(h,zero=True)\n",
    "\n",
    "cost2,cost_history= mse(y_test,out,0,cost_history)\n",
    "skcost2=mean_squared_error([y_test],out)\n",
    "#print(\"W\",normalw,\"Out\",h)\n",
    "tl = y_test.shape[0]\n",
    "\n",
    "terr=classification_error(y_test,out)\n",
    "print(\"Test set # Errori \",terr, \"su:\",y_test.shape[0],\"elementi =\",(tl-terr)/y_test.shape[0]*100,\"%\")\n",
    "print(\"MSE Train set NormalEquation: \",cost,\"MSE Test set NormalEquation: \",cost2, )\n",
    "print(\"SKlearn MSE Train set NormalEquation: \",skcost,\"SKlearn MSE Test set NormalEquation: \",skcost2, )\n"
   ]
  },
  {
   "cell_type": "markdown",
   "id": "c93853ca",
   "metadata": {},
   "source": [
    "Funzione che calcola la regolarizzazione di Tikhonov e il suo gradiente"
   ]
  },
  {
   "cell_type": "code",
   "execution_count": 29,
   "id": "a3b2c852",
   "metadata": {},
   "outputs": [],
   "source": [
    "def tikhonov(tlambda, w):\n",
    "    return lambdat * np.square(np.linalg.norm(w))\n",
    "\n",
    "def gradient_Tikhonov(tlambda,w):\n",
    "    return 2*tlambda*w\n",
    "    "
   ]
  },
  {
   "cell_type": "markdown",
   "id": "cec13b0a",
   "metadata": {},
   "source": [
    "Test errore di classificazione sul dataset breast cancer. Per prima cosa creo una rete con un singola unità. Parametri:\n",
    "- eta learning rate\n",
    "- lambda (Tikhnov) valore di regolarizzazione\n",
    "    * Note that for the objective function we use here the name Loss (used for the model training cost function) to distinguish from the Error E (useful to evaluate the model error and used for the data term inside this Loss). \n",
    "$$ Loss(w) = \\sum_{p=1}^{l} (y_p - x_p^T)^2 + \\lambda \\lVert {w} \\rVert^2 $$\n",
    "     * **Nota**  The balancing (trade-off) between the two terms: \n",
    "     * Small lambda value: minimizing the loss the focus is on obtaining a small error data term (first term, minimize just the training error) with a too complex model (high norm of the weights), the risk is of overfitting,\n",
    "     * High lambda: minimizing the loss the focus is on the second term, hence the data error (first term) could grow too much i.e. moving to underfitting\n",
    "- epoch numero di epoche di addestramento\n",
    "Per ogni epoca calcolo il termine di penalità e il gradiente aggiugendo anche il gradiente del termine di penalità \n",
    "$$ w_{new}= w + \\eta * \\Delta w - 2 \\lambda w $$\n",
    "\n",
    "Dopo l'addestramento faccio il plot dei costi per ogni epoca e applico il modello addestrato al dataset di Test"
   ]
  },
  {
   "cell_type": "code",
   "execution_count": 31,
   "id": "5ee6cc19",
   "metadata": {},
   "outputs": [
    {
     "data": {
      "image/png": "[encoded data removed]",
      "text/plain": [
       "<Figure size 432x288 with 1 Axes>"
      ]
     },
     "metadata": {
      "needs_background": "light"
     },
     "output_type": "display_data"
    },
    {
     "name": "stdout",
     "output_type": "stream",
     "text": [
      "Loss Train:  0.18029635304323927\n",
      "Train set # Errori  154 su: 469 elementi = 67.16417910447761 %\n",
      "Loss Test:  0.37\n",
      "TEST set # Errori  37 su: 100 elementi = 63.0 %\n"
     ]
    }
   ],
   "source": [
    "l_dim=[X_dev.shape[1],1,1]\n",
    "wb=init_wb(l_dim,eps=0.00001)\n",
    "w=wb[\"W\"+str(1)]\n",
    "b=wb[\"b\"+str(1)]\n",
    "cost_history=[]\n",
    "eta=0.0000001\n",
    "lambdat=0.00001\n",
    "epoch=5000\n",
    "\n",
    "for i in range (1,epoch):\n",
    "    #Calcolo la penalità\n",
    "    reg= tikhonov(lambdat,w)\n",
    "    #print(\"w\",i,\":\",w.shape)\n",
    "    #print(\"x\",i,\":\",X_dev.shape)\n",
    "    #Applico la funzione lineare\n",
    "    h=linear_af(w,X_dev,b)\n",
    "    #print(\"h\",i,\":\",h.shape)\n",
    "    cost,cost_history = mse(y_dev, h,reg,cost_history)\n",
    "    #Trovo il gradiente della funzione di Errore\n",
    "    gradient = gradient_mse(y_dev, h, X_dev)\n",
    "    #print(\"gradient\",i,\":\",gradient.shape)\n",
    "    #Applico il gradient descent per trovare i nuovi valori di w\n",
    "    w = gradient_descent(w,eta,gradient) - gradient_Tikhonov(lambdat,w)\n",
    "\n",
    "plt.plot(range(1,epoch),cost_history)\n",
    "plt.xlabel(\"epoch\")\n",
    "plt.ylabel(\"Error\")\n",
    "plt.show()\n",
    "\n",
    "#Train SET eseguo il modello trovato sul train e test set\n",
    "l = y_dev.shape[0]\n",
    "h=linear_af(w,X_dev,b)\n",
    "out=perceptron_af(h,zero=True)\n",
    "err=classification_error(y_dev,out)\n",
    "print(\"Loss Train: \",cost)\n",
    "print(\"Train set # Errori \", err , \"su:\",y_dev.shape[0],\"elementi =\",(l-err)/y_dev.shape[0]*100,\"%\")\n",
    "\n",
    "#TEST SET\n",
    "tl = y_test.shape[0]\n",
    "h=linear_af(w,X_test,b)\n",
    "out=perceptron_af(h)\n",
    "\n",
    "cost2,cost_history=mse(y_test,out,0)\n",
    "print(\"Loss Test: \",cost2)\n",
    "terr=classification_error(y_test,out)\n",
    "print(\"TEST set # Errori \", terr , \"su:\",y_test.shape[0],\"elementi =\",(tl-terr)/y_test.shape[0]*100,\"%\")\n"
   ]
  },
  {
   "cell_type": "markdown",
   "id": "d4248557",
   "metadata": {},
   "source": [
    "Funzione che applica l'algoritmo del perceptron_learning:\n",
    "1. Initialize the weights (either to zero or to a small random value)\n",
    "2. pick a learning rate eta ( this is a number between 0 and 1) \n",
    "3. until stopping condition is satisfied (e.g. weights don't change): <br> For each training pattern (x, y) (y = +1 or –1): \n",
    " - Compute output activation out = sign(wT x) [+1,-1]\n",
    " - If out = y, don't change weights I.e. “minimize (only) misclassifications”\n",
    " - If out <> y, update the weights:\n",
    " $$ w_{new} = w + \\eta  * y * x $$\n",
    "    * add   + eta x if wx ≤ 0 and y=+1 or  - eta x if wx > 0 and y=-1 <br>\n",
    "    Or $$ w_{new}= w + \\eta (y-out) x$$\n",
    "    $$ y-out = \\delta \\\\ w_{new}= w + \\eta \\delta x$$\n",
    " \n",
    " Parametri pesi W e bias B, learning rate eta, valori target y, input x, epoche di addestramento, verbose per la stampa di informazioni. Ritorna una tupla con i pesi aggiornati newW, il numero di valori errati, il numero i iterazioni effettuate"
   ]
  },
  {
   "cell_type": "code",
   "execution_count": 33,
   "id": "a50fe65c",
   "metadata": {},
   "outputs": [],
   "source": [
    "def perceptron_learning(w,b,eta,y,x,epochs,verbose=False):\n",
    "    #print(\"Shape d: \",d.shape,\" out: \",out.shape,\"X: \",x.shape,\"d-out: \",(np.subtract(d,out)))\n",
    "    newW=w\n",
    "    iter_miss=[]\n",
    "    i=0\n",
    "    miss=-1\n",
    "    ok=0\n",
    "    # Inizio l'addestramento termino se non ho nessuna misclassificazione o se raggiungo il numero limite di epoche\n",
    "    while miss!=0 and i!=epochs:\n",
    "        miss=0\n",
    "        ok=0\n",
    "        for p, xp in enumerate(x):\n",
    "            #ciclo i singoli pattern p\n",
    "            xp=np.reshape(xp,(1,xp.shape[0]))\n",
    "            #applico il perceptron al pattern \n",
    "            out = perceptron_step(newW,xp,b)\n",
    "            #calcolo y - out\n",
    "            yout=np.squeeze(y[p]) - np.squeeze(out)\n",
    "            # Se è diverso da zero aggiorno i pesi\n",
    "            if yout!=0:\n",
    "                newW +=  1/2* eta * (yout * xp)\n",
    "                miss+=1\n",
    "                if verbose:\n",
    "                    print(\"Errore numero\",miss,\"out:\",out,\"y:\",y[p],\"y-out\",yout)\n",
    "        i+=1;\n",
    "        iter_miss.append(miss)\n",
    "        if verbose and i % 500 == 0:\n",
    "            print(i)\n",
    "    return newW,iter_miss,i\n",
    "\n",
    "def perceptron_step(w,x,b):\n",
    "    h=linear_af(w,x,b)\n",
    "    return perceptron_af(h,zero=True)\n",
    "    "
   ]
  },
  {
   "cell_type": "markdown",
   "id": "be4a3fc2",
   "metadata": {},
   "source": [
    "Test del Perceptron Algorithm: Inizializzo i pesi per una unità setto un valore di eta e un numero di epoche e avvio l'algoritmo sul dataset di train. Alla fine dell'esecuzione controllo il numero di errori nella classificazione sia nel dataset di train che di test. TO DO: Da testare con il monk?"
   ]
  },
  {
   "cell_type": "code",
   "execution_count": 35,
   "id": "c42e1eb6",
   "metadata": {
    "scrolled": false
   },
   "outputs": [
    {
     "name": "stdout",
     "output_type": "stream",
     "text": [
      "Train set # Errori  48 su: 469 elementi = 89.76545842217483 %\n"
     ]
    },
    {
     "data": {
      "image/png": "[encoded data removed]",
      "text/plain": [
       "<Figure size 432x288 with 1 Axes>"
      ]
     },
     "metadata": {
      "needs_background": "light"
     },
     "output_type": "display_data"
    },
    {
     "name": "stdout",
     "output_type": "stream",
     "text": [
      "TEST set # Errori  12 su: 100 elementi = 88.0 %\n"
     ]
    }
   ],
   "source": [
    "l_dim=[X_dev.shape[1],1,1]\n",
    "wb=init_wb(l_dim,eps=0.00001)\n",
    "w=wb[\"W\"+str(1)]\n",
    "b=wb[\"b\"+str(1)]\n",
    "\n",
    "eta=0.000000001\n",
    "epochs=100\n",
    "\n",
    "\n",
    "newW,miss,i= perceptron_learning(w,b,eta,y_dev,X_dev,epochs)\n",
    "\n",
    "#Test set\n",
    "out=perceptron_step(newW,X_dev,b)\n",
    "nerr=classification_error(y_dev,out)\n",
    "\n",
    "l = y_dev.shape[0]\n",
    "print(\"Train set # Errori \", nerr , \"su:\",y_dev.shape[0],\"elementi =\",(l-nerr)/y_dev.shape[0]*100,\"%\")\n",
    "plt.plot(range(1,epochs+1),miss)\n",
    "plt.xlabel(\"epoch\")\n",
    "plt.ylabel(\"missclassified\")\n",
    "plt.show()\n",
    "\n",
    "#Test set\n",
    "out=perceptron_step(newW,X_test,b)\n",
    "tl = y_test.shape[0]\n",
    "terr=classification_error(y_test,out)\n",
    "print(\"TEST set # Errori \", terr , \"su:\",y_test.shape[0],\"elementi =\",(tl-terr)/y_test.shape[0]*100,\"%\")\n"
   ]
  },
  {
   "cell_type": "markdown",
   "id": "397c65b3",
   "metadata": {},
   "source": [
    "La funzione **forward_propagation** che effettua la propagazione in una rete neurale. I parametri:\n",
    "- X matrice degli input\n",
    "- w matrice dei pesi\n",
    "- b matrice dei bias\n",
    "- f la funzione di attivazione da applicare"
   ]
  },
  {
   "cell_type": "code",
   "execution_count": 36,
   "id": "848b5cad",
   "metadata": {},
   "outputs": [],
   "source": [
    "def forward_propagation(X,w,b,f_activation):\n",
    "    h=linear_af(w,X,b)\n",
    "    fwd_X = f_activation(h).T\n",
    "    cache=(X,w,b)\n",
    "    return h,fwd_X,cache\n"
   ]
  },
  {
   "cell_type": "markdown",
   "id": "18949017",
   "metadata": {},
   "source": [
    "Test della Forward propagation, inizializzo la rete con 2 hidden layer uno da 15 e 7 unità"
   ]
  },
  {
   "cell_type": "code",
   "execution_count": 37,
   "id": "917f9fc3",
   "metadata": {
    "scrolled": false
   },
   "outputs": [
    {
     "name": "stdout",
     "output_type": "stream",
     "text": [
      "MSE 0.6237570081145353\n",
      "SKLearn 0.6237570081145353\n"
     ]
    }
   ],
   "source": [
    "l_dim=[30,15,7,1]\n",
    "L=len(l_dim)\n",
    "wb=init_wb(l_dim,30,0.01)\n",
    "newX=X_dev\n",
    "caches=[]\n",
    "for l in range(1,L):\n",
    "    #print(\"Shape W\"+str(l),wb[\"W\"+str(l)].shape, \"Shape b\"+str(l),wb[\"b\"+str(l)].shape,wb[\"W\"+str(l)] )\n",
    "    h,newX,cache= forward_propagation(newX,wb[\"W\"+str(l)],wb[\"b\"+str(l)],sigmoid_af)\n",
    "    caches.append(cache)    \n",
    "cost,cost_history = mse(y_dev, h,0,cost_history)\n",
    "print(\"MSE\",cost)\n",
    "print(\"SKLearn\", mean_squared_error([y_dev],h))"
   ]
  },
  {
   "cell_type": "code",
   "execution_count": null,
   "id": "90679f73",
   "metadata": {},
   "outputs": [],
   "source": []
  }
 ],
 "metadata": {
  "kernelspec": {
   "display_name": "Python 3 (ipykernel)",
   "language": "python",
   "name": "python3"
  },
  "language_info": {
   "codemirror_mode": {
    "name": "ipython",
    "version": 3
   },
   "file_extension": ".py",
   "mimetype": "text/x-python",
   "name": "python",
   "nbconvert_exporter": "python",
   "pygments_lexer": "ipython3",
   "version": "3.9.7"
  }
 },
 "nbformat": 4,
 "nbformat_minor": 5
}
